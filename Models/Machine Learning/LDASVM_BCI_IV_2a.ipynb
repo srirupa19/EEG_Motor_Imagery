{
  "nbformat": 4,
  "nbformat_minor": 0,
  "metadata": {
    "colab": {
      "provenance": []
    },
    "kernelspec": {
      "name": "python3",
      "display_name": "Python 3"
    },
    "language_info": {
      "name": "python"
    }
  },
  "cells": [
    {
      "cell_type": "code",
      "execution_count": 1,
      "metadata": {
        "colab": {
          "base_uri": "https://localhost:8080/"
        },
        "id": "3J6vtH1cT8KA",
        "outputId": "9eb516d6-ce59-4c14-e562-7f4e65b031b7"
      },
      "outputs": [
        {
          "output_type": "stream",
          "name": "stdout",
          "text": [
            "Mounted at /content/drive\n"
          ]
        }
      ],
      "source": [
        "from google.colab import drive\n",
        "drive.mount('/content/drive')"
      ]
    },
    {
      "cell_type": "code",
      "source": [
        "import json\n",
        "import numpy as np\n",
        "import pandas as pd\n",
        "import matplotlib.pyplot as plt\n",
        "import networkx as nx\n",
        "import os.path as op\n",
        "import json\n",
        "import torch\n",
        "\n",
        "data_path = '/content/drive/My Drive/ML/'\n",
        "\n",
        "# Open the JSON file\n",
        "with open(data_path + 'data4.json', 'r') as file:\n",
        "    # Load the JSON data\n",
        "    loaded_data = json.load(file)\n",
        "\n",
        "data = np.array(loaded_data['x'])\n",
        "data = data.astype(float)"
      ],
      "metadata": {
        "id": "dFZEKEMr8CSL"
      },
      "execution_count": 3,
      "outputs": []
    },
    {
      "cell_type": "code",
      "source": [
        "import numpy as np\n",
        "from scipy.signal import butter, filtfilt\n",
        "\n",
        "# Define the filter parameters\n",
        "low_freq = 1\n",
        "high_freq = 50\n",
        "sampling_rate = 250  # Assuming a sampling rate of 100 Hz\n",
        "\n",
        "# Calculate the Nyquist frequency\n",
        "nyquist_freq = 0.5 * sampling_rate\n",
        "\n",
        "# Normalize the cutoff frequencies\n",
        "normalized_low_freq = low_freq / nyquist_freq\n",
        "normalized_high_freq = high_freq / nyquist_freq\n",
        "\n",
        "# Define the filter order (adjust as needed)\n",
        "filter_order = 2\n",
        "\n",
        "# Compute the Butterworth filter coefficients\n",
        "b, a = butter(filter_order, [normalized_low_freq, normalized_high_freq], btype='band')\n",
        "\n",
        "# Apply the filter to each data sample\n",
        "filtered_data = np.zeros_like(data)\n",
        "for i in range(data.shape[0]):\n",
        "    for j in range(data.shape[1]):\n",
        "        filtered_data[i, j, :] = filtfilt(b, a, data[i, j, :])"
      ],
      "metadata": {
        "id": "mUWCise08soO"
      },
      "execution_count": 5,
      "outputs": []
    },
    {
      "cell_type": "code",
      "source": [
        "import scipy\n",
        "\n",
        "# Mean amplitude\n",
        "mean_amplitude = np.mean(filtered_data, axis=1)\n",
        "\n",
        "# Variance\n",
        "variance = np.var(filtered_data, axis=1)\n",
        "\n",
        "# Standard deviation\n",
        "std_dev = np.std(filtered_data, axis=1)\n",
        "\n",
        "# Skewness\n",
        "skewness = scipy.stats.skew(filtered_data, axis=1)\n",
        "\n",
        "# Kurtosis\n",
        "kurtosis = scipy.stats.kurtosis(filtered_data, axis=1)\n",
        "\n",
        "# Zero-crossing rate\n",
        "zero_crossing_rate = np.sum(np.diff(np.signbit(filtered_data), axis=1), axis=1)"
      ],
      "metadata": {
        "id": "SkC8jWym8uDV"
      },
      "execution_count": 6,
      "outputs": []
    },
    {
      "cell_type": "code",
      "source": [
        "from scipy.signal import welch\n",
        "\n",
        "sampling_rate = 250  # Assuming a sampling rate of 250 Hz\n",
        "\n",
        "# Power spectral density\n",
        "freq, psd = welch(filtered_data, fs=sampling_rate, axis=1)\n",
        "\n",
        "# Band power\n",
        "alpha_band_power = np.mean(psd[:, (freq >= 8) & (freq <= 12)], axis=1)\n",
        "beta_band_power = np.mean(psd[:, (freq >= 13) & (freq <= 30)], axis=1)\n",
        "theta_band_power = np.mean(psd[:, (freq >= 4) & (freq <= 7)], axis=1)\n",
        "\n",
        "# Spectral entropy\n",
        "spectral_entropy = -np.sum(psd * np.log2(psd), axis=1)\n",
        "\n",
        "# Peak frequency\n",
        "peak_frequency = freq[np.argmax(psd, axis=1)]\n",
        "\n",
        "# Inter-band power ratio\n",
        "inter_band_power_ratio = alpha_band_power / beta_band_power"
      ],
      "metadata": {
        "id": "ltxDWDY88wU6"
      },
      "execution_count": 7,
      "outputs": []
    },
    {
      "cell_type": "code",
      "source": [
        "time1 = np.array(mean_amplitude)\n",
        "time2 = np.array(variance)\n",
        "time3 = np.array(std_dev)\n",
        "time4 = np.array(skewness)\n",
        "time5 = np.array(kurtosis)\n",
        "time6 = np.array(zero_crossing_rate)\n",
        "\n",
        "freq1 = np.array(alpha_band_power)\n",
        "freq2 = np.array(beta_band_power)\n",
        "freq3 = np.array(theta_band_power)\n",
        "freq4 = np.array(spectral_entropy)\n",
        "freq5 = np.array(peak_frequency)\n",
        "freq6 = np.array(inter_band_power_ratio)\n",
        "\n",
        "# Stack the arrays along the third axis\n",
        "stacked_array = np.stack((time1, time2, time3, time4, time5, time6, freq1, freq2, freq3, freq4, freq5, freq6), axis=2)"
      ],
      "metadata": {
        "id": "JC9TlR2J81UA"
      },
      "execution_count": 8,
      "outputs": []
    },
    {
      "cell_type": "code",
      "source": [
        "flattened_data = stacked_array.reshape((stacked_array.shape[0], -1))\n",
        "flattened_data = np.nan_to_num(flattened_data, nan=0)\n",
        "\n",
        "from sklearn.decomposition import PCA\n",
        "\n",
        "pca = PCA(n_components=70)\n",
        "X_new = pca.fit_transform(flattened_data)"
      ],
      "metadata": {
        "id": "f7NG-EaR88h5"
      },
      "execution_count": 9,
      "outputs": []
    },
    {
      "cell_type": "code",
      "source": [
        "filter_flatten = filtered_data.reshape((filtered_data.shape[0], -1))\n",
        "filter_flatten = np.nan_to_num(filter_flatten, nan=0)\n",
        "\n",
        "pca = PCA(n_components=120)\n",
        "X_new2 = pca.fit_transform(filter_flatten)"
      ],
      "metadata": {
        "id": "AvD91Vf689Cf"
      },
      "execution_count": 10,
      "outputs": []
    },
    {
      "cell_type": "code",
      "source": [
        "output_values = loaded_data['y']\n",
        "output_values = [x - 1 for x in output_values]"
      ],
      "metadata": {
        "id": "dIV1pD-38kk8"
      },
      "execution_count": 11,
      "outputs": []
    },
    {
      "cell_type": "code",
      "source": [
        "from sklearn.discriminant_analysis import LinearDiscriminantAnalysis\n",
        "from sklearn.model_selection import train_test_split\n",
        "from sklearn.metrics import accuracy_score\n",
        "from sklearn.model_selection import cross_val_score\n",
        "\n",
        "mean = np.mean(filtered_data, axis=0)\n",
        "std = np.std(filtered_data, axis=0)\n",
        "\n",
        "# Normalize the data by subtracting the mean and dividing by the standard deviation\n",
        "normalized_data = (filtered_data - mean) / std\n",
        "\n",
        "np_list = X_new2\n",
        "np_list = np.nan_to_num(np_list, nan=0)\n",
        "\n",
        "flattened_data = np_list.reshape(np_list.shape[0], -1)\n",
        "# X_train, X_test, y_train, y_test = train_test_split(flattened_data, output_values, test_size=0.1, random_state=42)"
      ],
      "metadata": {
        "id": "CEGHseB485Az"
      },
      "execution_count": 12,
      "outputs": []
    },
    {
      "cell_type": "code",
      "source": [
        "lda = LinearDiscriminantAnalysis()\n",
        "accuracies = cross_val_score(lda, flattened_data, output_values, cv=15)\n",
        "accuracy = mean_accuracy = accuracies.mean() * 100\n",
        "print(f\"Accuracy: {accuracy:.4f}\")"
      ],
      "metadata": {
        "colab": {
          "base_uri": "https://localhost:8080/"
        },
        "id": "meUCRuE79CMe",
        "outputId": "3fe8d302-15aa-4ff7-e53e-b76c947e5e85"
      },
      "execution_count": 13,
      "outputs": [
        {
          "output_type": "stream",
          "name": "stdout",
          "text": [
            "Accuracy: 40.7368\n"
          ]
        }
      ]
    },
    {
      "cell_type": "code",
      "source": [
        "from sklearn.metrics import confusion_matrix, classification_report\n",
        "import seaborn as sns\n",
        "\n",
        "\n",
        "X_train, X_test, y_train, y_test = train_test_split(flattened_data, output_values, test_size=0.2, random_state=42)\n",
        "\n",
        "lda = LinearDiscriminantAnalysis()\n",
        "lda.fit(X_train, y_train)\n",
        "\n",
        "# Step 2: Evaluate the model\n",
        "y_pred = lda.predict(X_test)\n",
        "\n",
        "# Step 3: Create the confusion matrix\n",
        "confusion_mat = confusion_matrix(y_test, y_pred)\n",
        "\n",
        "# Step 4: Analyze the confusion matrix\n",
        "print(\"Confusion Matrix:\")\n",
        "print(confusion_mat)\n",
        "\n",
        "sns.heatmap(confusion_matrix(\n",
        "    y_test,\n",
        "    y_pred\n",
        "))"
      ],
      "metadata": {
        "colab": {
          "base_uri": "https://localhost:8080/",
          "height": 539
        },
        "id": "giXy7T4l9EfV",
        "outputId": "a70de5ef-607a-4806-87c9-6da33b42ca8f"
      },
      "execution_count": 14,
      "outputs": [
        {
          "output_type": "stream",
          "name": "stdout",
          "text": [
            "Confusion Matrix:\n",
            "[[6 5 2 1]\n",
            " [7 8 2 0]\n",
            " [2 2 7 1]\n",
            " [2 5 3 5]]\n"
          ]
        },
        {
          "output_type": "execute_result",
          "data": {
            "text/plain": [
              "<Axes: >"
            ]
          },
          "metadata": {},
          "execution_count": 14
        },
        {
          "output_type": "display_data",
          "data": {
            "text/plain": [
              "<Figure size 640x480 with 2 Axes>"
            ],
            "image/png": "[encoded data removed]"
          },
          "metadata": {}
        }
      ]
    },
    {
      "cell_type": "code",
      "source": [
        "np_list = filtered_data\n",
        "np_list = np.nan_to_num(np_list, nan=0)\n",
        "\n",
        "flattened_data = np_list.reshape(np_list.shape[0], -1)"
      ],
      "metadata": {
        "id": "qCNr8KIa9YPv"
      },
      "execution_count": 15,
      "outputs": []
    },
    {
      "cell_type": "code",
      "source": [
        "from sklearn.svm import SVC\n",
        "\n",
        "svm = SVC()\n",
        "accuracies = cross_val_score(svm, flattened_data, output_values, cv=10)\n",
        "accuracy = mean_accuracy = accuracies.mean() * 100\n",
        "print(f\"Accuracy: {accuracy:.4f}\")"
      ],
      "metadata": {
        "colab": {
          "base_uri": "https://localhost:8080/"
        },
        "id": "YeZ5EcvU9Yvw",
        "outputId": "de6887ed-a41a-4c4d-ec06-18beb86ada9b"
      },
      "execution_count": 16,
      "outputs": [
        {
          "output_type": "stream",
          "name": "stdout",
          "text": [
            "Accuracy: 45.8498\n"
          ]
        }
      ]
    },
    {
      "cell_type": "code",
      "source": [
        "from sklearn.metrics import confusion_matrix, classification_report\n",
        "import seaborn as sns\n",
        "\n",
        "\n",
        "X_train, X_test, y_train, y_test = train_test_split(flattened_data, output_values, test_size=0.2, random_state=42)\n",
        "\n",
        "svc = SVC()\n",
        "svc.fit(X_train, y_train)\n",
        "\n",
        "# Step 2: Evaluate the model\n",
        "y_pred = svc.predict(X_test)\n",
        "\n",
        "# Step 3: Create the confusion matrix\n",
        "confusion_mat = confusion_matrix(y_test, y_pred)\n",
        "\n",
        "# Step 4: Analyze the confusion matrix\n",
        "print(\"Confusion Matrix:\")\n",
        "print(confusion_mat)\n",
        "\n",
        "sns.heatmap(confusion_matrix(\n",
        "    y_test,\n",
        "    y_pred\n",
        "))"
      ],
      "metadata": {
        "colab": {
          "base_uri": "https://localhost:8080/",
          "height": 539
        },
        "id": "KD4gzAIh9a2S",
        "outputId": "828b15a4-e616-4c6a-d06a-1900741c289b"
      },
      "execution_count": 17,
      "outputs": [
        {
          "output_type": "stream",
          "name": "stdout",
          "text": [
            "Confusion Matrix:\n",
            "[[ 7  5  1  1]\n",
            " [ 4 10  0  3]\n",
            " [ 2  3  6  1]\n",
            " [ 5  3  2  5]]\n"
          ]
        },
        {
          "output_type": "execute_result",
          "data": {
            "text/plain": [
              "<Axes: >"
            ]
          },
          "metadata": {},
          "execution_count": 17
        },
        {
          "output_type": "display_data",
          "data": {
            "text/plain": [
              "<Figure size 640x480 with 2 Axes>"
            ],
            "image/png": "[encoded data removed]"
          },
          "metadata": {}
        }
      ]
    }
  ]
}