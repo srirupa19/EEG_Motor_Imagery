{
  "nbformat": 4,
  "nbformat_minor": 0,
  "metadata": {
    "colab": {
      "provenance": []
    },
    "kernelspec": {
      "name": "python3",
      "display_name": "Python 3"
    },
    "language_info": {
      "name": "python"
    }
  },
  "cells": [
    {
      "cell_type": "code",
      "execution_count": 53,
      "metadata": {
        "colab": {
          "base_uri": "https://localhost:8080/"
        },
        "id": "3J6vtH1cT8KA",
        "outputId": "d9cf7a7c-f4ea-4024-a136-ed0752251e86"
      },
      "outputs": [
        {
          "output_type": "stream",
          "name": "stdout",
          "text": [
            "Drive already mounted at /content/drive; to attempt to forcibly remount, call drive.mount(\"/content/drive\", force_remount=True).\n"
          ]
        }
      ],
      "source": [
        "from google.colab import drive\n",
        "drive.mount('/content/drive')"
      ]
    },
    {
      "cell_type": "code",
      "source": [
        "import json\n",
        "import numpy as np\n",
        "\n",
        "\n",
        "data_file_name = 'data.json'\n",
        "data_file_path = f'/content/drive/My Drive/Project Data/JSON Data/{data_file_name}'\n",
        "\n",
        "# Open the JSON file\n",
        "with open(data_file_path, 'r') as file:\n",
        "    # Load the JSON data\n",
        "    loaded_json_data = json.load(file)\n",
        "\n",
        "# create numpy array 'data_array'\n",
        "data_array = np.array(loaded_json_data['x'])\n",
        "# convert array values to float\n",
        "data_array = data_array.astype(float)"
      ],
      "metadata": {
        "id": "dFZEKEMr8CSL"
      },
      "execution_count": 55,
      "outputs": []
    },
    {
      "cell_type": "code",
      "source": [
        "from scipy.signal import butter, filtfilt\n",
        "\n",
        "\n",
        "# Define the filter parameters\n",
        "lower_freq_limit = 1\n",
        "higher_freq_limit = 50\n",
        "sampling_rate = 250  # Assuming a sampling rate of 250Hz\n",
        "\n",
        "# Calculate the Nyquist frequency\n",
        "nyquist_freq = 0.5 * sampling_rate\n",
        "\n",
        "# Normalize the cutoff frequencies\n",
        "normalized_lower_freq_limit = lower_freq_limit / nyquist_freq\n",
        "normalized_higher_freq_limit = higher_freq_limit / nyquist_freq\n",
        "\n",
        "# Determines the sharpness of the filter's cutoff\n",
        "# (How aggressively the filter removes frequencies outside the desired passband)\n",
        "filter_order = 2\n",
        "\n",
        "# Compute the Butterworth filter coefficients\n",
        "filter_coeff_1, filter_coeff_2 = butter(\n",
        "    filter_order, [normalized_lower_freq_limit, normalized_higher_freq_limit],\n",
        "    btype='band')\n",
        "\n",
        "# Apply the filter to each data sample in data_array\n",
        "filtered_data = np.zeros_like(data_array)\n",
        "for row_index in range(data_array.shape[0]):\n",
        "    for col_index in range(data_array.shape[1]):\n",
        "        filtered_data[row_index, col_index, :] = filtfilt(\n",
        "            filter_coeff_1, filter_coeff_2, data_array[row_index, col_index, :])"
      ],
      "metadata": {
        "id": "mUWCise08soO"
      },
      "execution_count": 56,
      "outputs": []
    },
    {
      "cell_type": "code",
      "source": [
        "from sklearn.decomposition import PCA\n",
        "\n",
        "\n",
        "flattened_filtered_data = filtered_data.reshape(\n",
        "    (filtered_data.shape[0], -1))\n",
        "flattened_filtered_data = np.nan_to_num(flattened_filtered_data, nan=0)\n",
        "\n",
        "pca = PCA(n_components=120)\n",
        "pca_transformed_filtered_data = pca.fit_transform(flattened_filtered_data)"
      ],
      "metadata": {
        "id": "AvD91Vf689Cf"
      },
      "execution_count": 57,
      "outputs": []
    },
    {
      "cell_type": "code",
      "source": [
        "output_values = loaded_json_data['y']\n",
        "output_values = [x - 1 for x in output_values]"
      ],
      "metadata": {
        "id": "dIV1pD-38kk8"
      },
      "execution_count": 58,
      "outputs": []
    },
    {
      "cell_type": "code",
      "source": [
        "mean_of_data = np.mean(filtered_data, axis=0)\n",
        "std_of_data = np.std(filtered_data, axis=0)\n",
        "\n",
        "# Normalize the data by subtracting the mean and\n",
        "# dividing by the standard deviation\n",
        "normalized_data = (filtered_data - mean_of_data) / std_of_data\n",
        "\n",
        "np_list = pca_transformed_filtered_data\n",
        "np_list = np.nan_to_num(np_list, nan=0)\n",
        "\n",
        "flattened_data = np_list.reshape(np_list.shape[0], -1)"
      ],
      "metadata": {
        "id": "CEGHseB485Az"
      },
      "execution_count": 59,
      "outputs": []
    },
    {
      "cell_type": "code",
      "source": [
        "from sklearn.discriminant_analysis import LinearDiscriminantAnalysis\n",
        "from sklearn.model_selection import cross_val_score, train_test_split\n",
        "\n",
        "\n",
        "lda = LinearDiscriminantAnalysis()\n",
        "accuracies = cross_val_score(lda, flattened_data, output_values, cv=15)\n",
        "accuracy = mean_accuracy = accuracies.mean() * 100\n",
        "\n",
        "print(f\"Accuracy: {accuracy:.4f}\")"
      ],
      "metadata": {
        "colab": {
          "base_uri": "https://localhost:8080/"
        },
        "id": "meUCRuE79CMe",
        "outputId": "89569a63-f795-4650-930a-6b1d8d9e5132"
      },
      "execution_count": 60,
      "outputs": [
        {
          "output_type": "stream",
          "name": "stdout",
          "text": [
            "Accuracy: 41.3684\n"
          ]
        }
      ]
    },
    {
      "cell_type": "code",
      "source": [
        "import seaborn as sns\n",
        "from sklearn.metrics import classification_report, confusion_matrix\n",
        "\n",
        "\n",
        "X_train, X_test, y_train, y_test = train_test_split(\n",
        "    flattened_data, output_values, test_size=0.2, random_state=42)\n",
        "\n",
        "lda.fit(X_train, y_train)\n",
        "\n",
        "# Evaluate the model\n",
        "y_pred = lda.predict(X_test)\n",
        "\n",
        "print('\\n Classification report: \\n\\n',\n",
        "      classification_report(\n",
        "          y_test,\n",
        "          y_pred\n",
        "      ))\n",
        "\n",
        "# Create the confusion matrix\n",
        "confusion_mat = confusion_matrix(y_test, y_pred)\n",
        "\n",
        "# Analyze the confusion matrix\n",
        "print('\\n Confusion matrix: \\n\\n', confusion_mat)\n",
        "\n",
        "sns.heatmap(confusion_matrix(\n",
        "    y_test,\n",
        "    y_pred\n",
        "))"
      ],
      "metadata": {
        "colab": {
          "base_uri": "https://localhost:8080/",
          "height": 828
        },
        "id": "giXy7T4l9EfV",
        "outputId": "5eda96ce-2506-46fc-f962-489b467d8310"
      },
      "execution_count": 61,
      "outputs": [
        {
          "output_type": "stream",
          "name": "stdout",
          "text": [
            "\n",
            " Classification report: \n",
            "\n",
            "               precision    recall  f1-score   support\n",
            "\n",
            "           0       0.35      0.43      0.39        14\n",
            "           1       0.40      0.47      0.43        17\n",
            "           2       0.50      0.58      0.54        12\n",
            "           3       0.71      0.33      0.45        15\n",
            "\n",
            "    accuracy                           0.45        58\n",
            "   macro avg       0.49      0.45      0.45        58\n",
            "weighted avg       0.49      0.45      0.45        58\n",
            "\n",
            "\n",
            " Confusion matrix: \n",
            "\n",
            " [[6 5 2 1]\n",
            " [7 8 2 0]\n",
            " [2 2 7 1]\n",
            " [2 5 3 5]]\n"
          ]
        },
        {
          "output_type": "execute_result",
          "data": {
            "text/plain": [
              "<Axes: >"
            ]
          },
          "metadata": {},
          "execution_count": 61
        },
        {
          "output_type": "display_data",
          "data": {
            "text/plain": [
              "<Figure size 640x480 with 2 Axes>"
            ],
            "image/png": "[encoded data removed]"
          },
          "metadata": {}
        }
      ]
    }
  ]
}