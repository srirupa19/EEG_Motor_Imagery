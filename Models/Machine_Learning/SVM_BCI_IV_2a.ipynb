{
  "nbformat": 4,
  "nbformat_minor": 0,
  "metadata": {
    "colab": {
      "provenance": []
    },
    "kernelspec": {
      "name": "python3",
      "display_name": "Python 3"
    },
    "language_info": {
      "name": "python"
    }
  },
  "cells": [
    {
      "cell_type": "code",
      "execution_count": 1,
      "metadata": {
        "colab": {
          "base_uri": "https://localhost:8080/"
        },
        "id": "3J6vtH1cT8KA",
        "outputId": "a4e9c435-1cff-4f6d-eeca-ff1a046fd1b2"
      },
      "outputs": [
        {
          "output_type": "stream",
          "name": "stdout",
          "text": [
            "Mounted at /content/drive\n"
          ]
        }
      ],
      "source": [
        "from google.colab import drive\n",
        "drive.mount('/content/drive')"
      ]
    },
    {
      "cell_type": "code",
      "source": [
        "import json\n",
        "import numpy as np\n",
        "\n",
        "\n",
        "data_file_name = 'data.json'\n",
        "data_file_path = f'/content/drive/My Drive/Project Data/JSON Data/{data_file_name}'\n",
        "\n",
        "# Open the JSON file\n",
        "with open(data_file_path, 'r') as file:\n",
        "    # Load the JSON data\n",
        "    loaded_json_data = json.load(file)\n",
        "\n",
        "# create numpy array 'data_array'\n",
        "data_array = np.array(loaded_json_data['x'])\n",
        "# convert array values to float\n",
        "data_array = data_array.astype(float)"
      ],
      "metadata": {
        "id": "dFZEKEMr8CSL"
      },
      "execution_count": 2,
      "outputs": []
    },
    {
      "cell_type": "code",
      "source": [
        "from scipy.signal import butter, filtfilt\n",
        "\n",
        "\n",
        "# Define the filter parameters\n",
        "lower_freq_limit = 1\n",
        "higher_freq_limit = 50\n",
        "sampling_rate = 250  # Assuming a sampling rate of 250Hz\n",
        "\n",
        "# Calculate the Nyquist frequency\n",
        "nyquist_freq = 0.5 * sampling_rate\n",
        "\n",
        "# Normalize the cutoff frequencies\n",
        "normalized_lower_freq_limit = lower_freq_limit / nyquist_freq\n",
        "normalized_higher_freq_limit = higher_freq_limit / nyquist_freq\n",
        "\n",
        "# Determines the sharpness of the filter's cutoff\n",
        "# (How aggressively the filter removes frequencies outside the desired passband)\n",
        "filter_order = 2\n",
        "\n",
        "# Compute the Butterworth filter coefficients\n",
        "filter_coeff_1, filter_coeff_2 = butter(\n",
        "    filter_order, [normalized_lower_freq_limit, normalized_higher_freq_limit],\n",
        "    btype='band')\n",
        "\n",
        "# Apply the filter to each data sample in data_array\n",
        "filtered_data = np.zeros_like(data_array)\n",
        "for row_index in range(data_array.shape[0]):\n",
        "    for col_index in range(data_array.shape[1]):\n",
        "        filtered_data[row_index, col_index, :] = filtfilt(\n",
        "            filter_coeff_1, filter_coeff_2, data_array[row_index, col_index, :])"
      ],
      "metadata": {
        "id": "mUWCise08soO"
      },
      "execution_count": 3,
      "outputs": []
    },
    {
      "cell_type": "code",
      "source": [
        "np_list = filtered_data\n",
        "np_list = np.nan_to_num(np_list, nan=0)\n",
        "\n",
        "flattened_data = np_list.reshape(np_list.shape[0], -1)"
      ],
      "metadata": {
        "id": "qCNr8KIa9YPv"
      },
      "execution_count": 4,
      "outputs": []
    },
    {
      "cell_type": "code",
      "source": [
        "output_values = loaded_json_data['y']\n",
        "output_values = [x - 1 for x in output_values]"
      ],
      "metadata": {
        "id": "dIV1pD-38kk8"
      },
      "execution_count": 5,
      "outputs": []
    },
    {
      "cell_type": "code",
      "source": [
        "from sklearn.model_selection import cross_val_score, train_test_split\n",
        "from sklearn.svm import SVC\n",
        "\n",
        "\n",
        "svc = SVC()\n",
        "accuracies = cross_val_score(svc, flattened_data, output_values, cv=10)\n",
        "accuracy = mean_accuracy = accuracies.mean() * 100\n",
        "print(f\"Accuracy: {accuracy:.4f}\")"
      ],
      "metadata": {
        "colab": {
          "base_uri": "https://localhost:8080/"
        },
        "id": "YeZ5EcvU9Yvw",
        "outputId": "ffc70899-0b8d-4f9b-95d3-9dfaafce5bde"
      },
      "execution_count": 6,
      "outputs": [
        {
          "output_type": "stream",
          "name": "stdout",
          "text": [
            "Accuracy: 45.8498\n"
          ]
        }
      ]
    },
    {
      "cell_type": "code",
      "source": [
        "import seaborn as sns\n",
        "from sklearn.metrics import classification_report, confusion_matrix\n",
        "\n",
        "\n",
        "X_train, X_test, y_train, y_test = train_test_split(\n",
        "    flattened_data, output_values, test_size=0.2, random_state=42)\n",
        "\n",
        "svc.fit(X_train, y_train)\n",
        "\n",
        "# Evaluate the model\n",
        "y_pred = svc.predict(X_test)\n",
        "\n",
        "print('\\n Classification report: \\n\\n',\n",
        "      classification_report(\n",
        "          y_test,\n",
        "          y_pred\n",
        "      ))\n",
        "\n",
        "\n",
        "# Create the confusion matrix\n",
        "confusion_mat = confusion_matrix(y_test, y_pred)\n",
        "\n",
        "# Analyze the confusion matrix\n",
        "print('\\n Confusion matrix: \\n\\n', confusion_mat)\n",
        "\n",
        "sns.heatmap(confusion_mat)"
      ],
      "metadata": {
        "colab": {
          "base_uri": "https://localhost:8080/",
          "height": 828
        },
        "id": "KD4gzAIh9a2S",
        "outputId": "fe798811-503d-41c3-acd9-0333a5b27b6b"
      },
      "execution_count": 7,
      "outputs": [
        {
          "output_type": "stream",
          "name": "stdout",
          "text": [
            "\n",
            " Classification report: \n",
            "\n",
            "               precision    recall  f1-score   support\n",
            "\n",
            "           0       0.39      0.50      0.44        14\n",
            "           1       0.48      0.59      0.53        17\n",
            "           2       0.67      0.50      0.57        12\n",
            "           3       0.50      0.33      0.40        15\n",
            "\n",
            "    accuracy                           0.48        58\n",
            "   macro avg       0.51      0.48      0.48        58\n",
            "weighted avg       0.50      0.48      0.48        58\n",
            "\n",
            "\n",
            " Confusion matrix: \n",
            "\n",
            " [[ 7  5  1  1]\n",
            " [ 4 10  0  3]\n",
            " [ 2  3  6  1]\n",
            " [ 5  3  2  5]]\n"
          ]
        },
        {
          "output_type": "execute_result",
          "data": {
            "text/plain": [
              "<Axes: >"
            ]
          },
          "metadata": {},
          "execution_count": 7
        },
        {
          "output_type": "display_data",
          "data": {
            "text/plain": [
              "<Figure size 640x480 with 2 Axes>"
            ],
            "image/png": "[encoded data removed]"
          },
          "metadata": {}
        }
      ]
    }
  ]
}