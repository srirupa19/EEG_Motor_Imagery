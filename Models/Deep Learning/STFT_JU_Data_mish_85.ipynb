{
  "nbformat": 4,
  "nbformat_minor": 0,
  "metadata": {
    "colab": {
      "provenance": []
    },
    "kernelspec": {
      "name": "python3",
      "display_name": "Python 3"
    },
    "language_info": {
      "name": "python"
    }
  },
  "cells": [
    {
      "cell_type": "code",
      "execution_count": 1,
      "metadata": {
        "colab": {
          "base_uri": "https://localhost:8080/"
        },
        "id": "6uYW-Bo6G_uE",
        "outputId": "35ec096b-81c3-474d-cd6a-7d99a611cb35"
      },
      "outputs": [
        {
          "output_type": "stream",
          "name": "stdout",
          "text": [
            "Mounted at /content/drive\n"
          ]
        }
      ],
      "source": [
        "from google.colab import drive\n",
        "drive.mount('/content/drive')"
      ]
    },
    {
      "cell_type": "markdown",
      "source": [
        "- Selected Channels: 15 (Fp1, Fp2, F3, F4, Cz, P3, P4, C3, C4, Cz, P3, P4, Pz, O1, O2)\n",
        "- Range of Delta (for Artificial Data Generation): [0.0001, 0.0005]\n",
        "- Input size: (65, 198, 15)\n",
        "- Input type: Short Time Fourier Transform with window length 128, overlap 100\n",
        "- Number of samples: 1212 (1200 fake samples + 12 real samples)"
      ],
      "metadata": {
        "id": "3fWvMz6Me6Ij"
      }
    },
    {
      "cell_type": "code",
      "source": [
        "import numpy as np\n",
        "\n",
        "path = '/content/drive/My Drive/ML/'\n",
        "stft = np.load(path + 'Fstft3.npy')"
      ],
      "metadata": {
        "id": "F0mipD98HCfw"
      },
      "execution_count": 2,
      "outputs": []
    },
    {
      "cell_type": "code",
      "source": [
        "num_classes = 4\n",
        "\n",
        "output_values = np.concatenate((np.tile(0, 303), np.tile(1, 303), np.tile(2, 303), np.tile(3, 303)))\n",
        "output_values = np.eye(num_classes)[output_values]\n",
        "\n",
        "data_array = stft"
      ],
      "metadata": {
        "id": "g2QMu4pLHGoi"
      },
      "execution_count": 3,
      "outputs": []
    },
    {
      "cell_type": "code",
      "source": [
        "data_array.shape"
      ],
      "metadata": {
        "colab": {
          "base_uri": "https://localhost:8080/"
        },
        "id": "X1Y1xel9HJuN",
        "outputId": "10f49336-c867-45fa-cfc6-4ad7c56b1a24"
      },
      "execution_count": 4,
      "outputs": [
        {
          "output_type": "execute_result",
          "data": {
            "text/plain": [
              "(1212, 15, 65, 198)"
            ]
          },
          "metadata": {},
          "execution_count": 4
        }
      ]
    },
    {
      "cell_type": "code",
      "source": [
        "import keras"
      ],
      "metadata": {
        "id": "uClYKYWoJpaV"
      },
      "execution_count": 5,
      "outputs": []
    },
    {
      "cell_type": "code",
      "source": [
        "from keras.models import Sequential\n",
        "from keras.callbacks import LearningRateScheduler\n",
        "from keras.layers import Dense, Dropout, Flatten, Conv2D, MaxPool2D, BatchNormalization\n",
        "from keras.models import Model\n",
        "from keras.optimizers import Adam\n",
        "from keras.preprocessing.image import ImageDataGenerator\n",
        "from keras.utils.np_utils import to_categorical"
      ],
      "metadata": {
        "id": "TxBsjSrTwxsq"
      },
      "execution_count": 6,
      "outputs": []
    },
    {
      "cell_type": "code",
      "source": [
        "# Parameters\n",
        "train_params = {'dim': (65,198),\n",
        "                'batch_size': 64,\n",
        "                'n_classes':4,\n",
        "                'n_channels': 15,\n",
        "                'shuffle': True,\n",
        "                'input_type': 'stft',\n",
        "                'augment': True\n",
        "               }\n",
        "val_params = {'dim': (65,198),\n",
        "              'batch_size': 64,\n",
        "              'n_classes':4,\n",
        "              'n_channels': 15,\n",
        "              'shuffle': False,\n",
        "              'input_type': 'stft',\n",
        "              'augment': False\n",
        "             }"
      ],
      "metadata": {
        "id": "Suq5cIkUxHuu"
      },
      "execution_count": 7,
      "outputs": []
    },
    {
      "cell_type": "code",
      "source": [
        "import tensorflow as tf\n",
        "\n",
        "def mish(inputs):\n",
        "  x = tf.nn.softplus(inputs)\n",
        "  x = tf.nn.tanh(x)\n",
        "  x = tf.multiply(x, inputs)\n",
        "  return x\n",
        "\n",
        "\n",
        "stft_input = keras.Input(shape=(65, 198, 15))\n",
        "x = Conv2D(32, 3, activation=mish)(stft_input)\n",
        "x = BatchNormalization()(x)\n",
        "x = Conv2D(32, 3, activation=mish)(x)\n",
        "x = BatchNormalization()(x)\n",
        "x = Conv2D(32, 5, strides=2, padding='same', activation=mish)(x)\n",
        "x = Dropout(0.4)(x)\n",
        "\n",
        "x = Conv2D(64, 3, activation=mish)(x)\n",
        "x = BatchNormalization()(x)\n",
        "x = Conv2D(64, 3, activation=mish)(x)\n",
        "x = BatchNormalization()(x)\n",
        "x = Conv2D(64, 5, strides=2, padding='same', activation=mish)(x)\n",
        "x = BatchNormalization()(x)\n",
        "x = Dropout(0.4)(x)\n",
        "\n",
        "x = Conv2D(128, 4, activation=mish)(x)\n",
        "x = BatchNormalization()(x)\n",
        "x = Flatten()(x)\n",
        "x = Dropout(0.4)(x)\n",
        "\n",
        "stft_prediction = Dense(4, activation='softmax')(x)\n",
        "\n",
        "stft_model = Model(stft_input, stft_prediction)\n",
        "\n",
        "stft_model.compile(optimizer = 'adam',\n",
        "                    loss='categorical_crossentropy',\n",
        "                    metrics=[\"accuracy\"])\n",
        "\n",
        "stft_model.summary()\n",
        "\n",
        "stft_annealer = LearningRateScheduler(lambda x: 1e-3 * 0.97 ** x)"
      ],
      "metadata": {
        "colab": {
          "base_uri": "https://localhost:8080/"
        },
        "id": "wEgxh0_nxKvr",
        "outputId": "e072fa60-187c-44ee-cd08-60e857e4bc91"
      },
      "execution_count": 11,
      "outputs": [
        {
          "output_type": "stream",
          "name": "stdout",
          "text": [
            "Model: \"model_1\"\n",
            "_________________________________________________________________\n",
            " Layer (type)                Output Shape              Param #   \n",
            "=================================================================\n",
            " input_2 (InputLayer)        [(None, 65, 198, 15)]     0         \n",
            "                                                                 \n",
            " conv2d_7 (Conv2D)           (None, 63, 196, 32)       4352      \n",
            "                                                                 \n",
            " batch_normalization_6 (Batc  (None, 63, 196, 32)      128       \n",
            " hNormalization)                                                 \n",
            "                                                                 \n",
            " conv2d_8 (Conv2D)           (None, 61, 194, 32)       9248      \n",
            "                                                                 \n",
            " batch_normalization_7 (Batc  (None, 61, 194, 32)      128       \n",
            " hNormalization)                                                 \n",
            "                                                                 \n",
            " conv2d_9 (Conv2D)           (None, 31, 97, 32)        25632     \n",
            "                                                                 \n",
            " dropout_3 (Dropout)         (None, 31, 97, 32)        0         \n",
            "                                                                 \n",
            " conv2d_10 (Conv2D)          (None, 29, 95, 64)        18496     \n",
            "                                                                 \n",
            " batch_normalization_8 (Batc  (None, 29, 95, 64)       256       \n",
            " hNormalization)                                                 \n",
            "                                                                 \n",
            " conv2d_11 (Conv2D)          (None, 27, 93, 64)        36928     \n",
            "                                                                 \n",
            " batch_normalization_9 (Batc  (None, 27, 93, 64)       256       \n",
            " hNormalization)                                                 \n",
            "                                                                 \n",
            " conv2d_12 (Conv2D)          (None, 14, 47, 64)        102464    \n",
            "                                                                 \n",
            " batch_normalization_10 (Bat  (None, 14, 47, 64)       256       \n",
            " chNormalization)                                                \n",
            "                                                                 \n",
            " dropout_4 (Dropout)         (None, 14, 47, 64)        0         \n",
            "                                                                 \n",
            " conv2d_13 (Conv2D)          (None, 11, 44, 128)       131200    \n",
            "                                                                 \n",
            " batch_normalization_11 (Bat  (None, 11, 44, 128)      512       \n",
            " chNormalization)                                                \n",
            "                                                                 \n",
            " flatten_1 (Flatten)         (None, 61952)             0         \n",
            "                                                                 \n",
            " dropout_5 (Dropout)         (None, 61952)             0         \n",
            "                                                                 \n",
            " dense_1 (Dense)             (None, 4)                 247812    \n",
            "                                                                 \n",
            "=================================================================\n",
            "Total params: 577,668\n",
            "Trainable params: 576,900\n",
            "Non-trainable params: 768\n",
            "_________________________________________________________________\n"
          ]
        }
      ]
    },
    {
      "cell_type": "code",
      "source": [
        "from sklearn.model_selection import train_test_split\n",
        "\n",
        "data_array.shape\n",
        "\n",
        "input = np.transpose(data_array[:, :, :, :], (0, 2, 3, 1))\n",
        "print(input.shape)\n",
        "\n",
        "X_train_temp, X_test, Y_train_temp, Y_test = train_test_split(input, output_values, test_size=0.3, random_state=42)\n",
        "X_train, X_validate, Y_train, Y_validate = train_test_split(X_train_temp, Y_train_temp, test_size=0.25, random_state=36)"
      ],
      "metadata": {
        "colab": {
          "base_uri": "https://localhost:8080/"
        },
        "id": "nh_eHtWux0R0",
        "outputId": "f3290339-8ace-4fe2-e654-238b1b58a141"
      },
      "execution_count": 12,
      "outputs": [
        {
          "output_type": "stream",
          "name": "stdout",
          "text": [
            "(1212, 65, 198, 15)\n"
          ]
        }
      ]
    },
    {
      "cell_type": "code",
      "source": [
        "stft_history = stft_model.fit(X_train, Y_train, batch_size = 64, epochs = 100,\n",
        "                        verbose = 2, validation_data=(X_validate, Y_validate),\n",
        "                        callbacks=[stft_annealer], class_weight = {})"
      ],
      "metadata": {
        "colab": {
          "base_uri": "https://localhost:8080/"
        },
        "id": "D6slOiR_yCzo",
        "outputId": "cc7b895c-4bef-4751-f71f-4c149199b02f"
      },
      "execution_count": 13,
      "outputs": [
        {
          "output_type": "stream",
          "name": "stdout",
          "text": [
            "Epoch 1/100\n",
            "10/10 - 129s - loss: 2.2289 - accuracy: 0.3050 - val_loss: 1.5039 - val_accuracy: 0.2689 - lr: 0.0010 - 129s/epoch - 13s/step\n",
            "Epoch 2/100\n",
            "10/10 - 122s - loss: 2.0908 - accuracy: 0.4277 - val_loss: 2.2010 - val_accuracy: 0.2689 - lr: 9.7000e-04 - 122s/epoch - 12s/step\n",
            "Epoch 3/100\n",
            "10/10 - 118s - loss: 1.4937 - accuracy: 0.6258 - val_loss: 3.1067 - val_accuracy: 0.2689 - lr: 9.4090e-04 - 118s/epoch - 12s/step\n",
            "Epoch 4/100\n",
            "10/10 - 110s - loss: 0.6441 - accuracy: 0.8381 - val_loss: 3.1274 - val_accuracy: 0.2689 - lr: 9.1267e-04 - 110s/epoch - 11s/step\n",
            "Epoch 5/100\n",
            "10/10 - 122s - loss: 0.1131 - accuracy: 0.9575 - val_loss: 3.4782 - val_accuracy: 0.2689 - lr: 8.8529e-04 - 122s/epoch - 12s/step\n",
            "Epoch 6/100\n",
            "10/10 - 120s - loss: 0.0027 - accuracy: 0.9984 - val_loss: 3.6630 - val_accuracy: 0.2689 - lr: 8.5873e-04 - 120s/epoch - 12s/step\n",
            "Epoch 7/100\n",
            "10/10 - 120s - loss: 0.0021 - accuracy: 1.0000 - val_loss: 3.9557 - val_accuracy: 0.2689 - lr: 8.3297e-04 - 120s/epoch - 12s/step\n",
            "Epoch 8/100\n",
            "10/10 - 118s - loss: 0.0012 - accuracy: 1.0000 - val_loss: 4.3849 - val_accuracy: 0.2689 - lr: 8.0798e-04 - 118s/epoch - 12s/step\n",
            "Epoch 9/100\n",
            "10/10 - 110s - loss: 1.0143e-04 - accuracy: 1.0000 - val_loss: 4.6995 - val_accuracy: 0.2689 - lr: 7.8374e-04 - 110s/epoch - 11s/step\n",
            "Epoch 10/100\n",
            "10/10 - 120s - loss: 8.7476e-05 - accuracy: 1.0000 - val_loss: 4.9386 - val_accuracy: 0.2689 - lr: 7.6023e-04 - 120s/epoch - 12s/step\n",
            "Epoch 11/100\n",
            "10/10 - 106s - loss: 2.9119e-05 - accuracy: 1.0000 - val_loss: 5.1441 - val_accuracy: 0.2689 - lr: 7.3742e-04 - 106s/epoch - 11s/step\n",
            "Epoch 12/100\n",
            "10/10 - 117s - loss: 1.0757e-04 - accuracy: 1.0000 - val_loss: 5.3202 - val_accuracy: 0.2689 - lr: 7.1530e-04 - 117s/epoch - 12s/step\n",
            "Epoch 13/100\n",
            "10/10 - 105s - loss: 3.2509e-05 - accuracy: 1.0000 - val_loss: 5.4759 - val_accuracy: 0.2689 - lr: 6.9384e-04 - 105s/epoch - 10s/step\n",
            "Epoch 14/100\n",
            "10/10 - 116s - loss: 6.3462e-05 - accuracy: 1.0000 - val_loss: 5.6190 - val_accuracy: 0.2689 - lr: 6.7303e-04 - 116s/epoch - 12s/step\n",
            "Epoch 15/100\n",
            "10/10 - 106s - loss: 1.6885e-05 - accuracy: 1.0000 - val_loss: 5.7367 - val_accuracy: 0.2689 - lr: 6.5284e-04 - 106s/epoch - 11s/step\n",
            "Epoch 16/100\n",
            "10/10 - 116s - loss: 2.5638e-04 - accuracy: 1.0000 - val_loss: 5.8376 - val_accuracy: 0.2689 - lr: 6.3325e-04 - 116s/epoch - 12s/step\n",
            "Epoch 17/100\n",
            "10/10 - 107s - loss: 9.0126e-05 - accuracy: 1.0000 - val_loss: 5.9380 - val_accuracy: 0.2689 - lr: 6.1425e-04 - 107s/epoch - 11s/step\n",
            "Epoch 18/100\n",
            "10/10 - 105s - loss: 6.4007e-04 - accuracy: 1.0000 - val_loss: 6.0940 - val_accuracy: 0.2689 - lr: 5.9583e-04 - 105s/epoch - 10s/step\n",
            "Epoch 19/100\n",
            "10/10 - 116s - loss: 3.3304e-05 - accuracy: 1.0000 - val_loss: 6.2074 - val_accuracy: 0.2689 - lr: 5.7795e-04 - 116s/epoch - 12s/step\n",
            "Epoch 20/100\n",
            "10/10 - 118s - loss: 3.3660e-05 - accuracy: 1.0000 - val_loss: 6.2972 - val_accuracy: 0.2689 - lr: 5.6061e-04 - 118s/epoch - 12s/step\n",
            "Epoch 21/100\n",
            "10/10 - 105s - loss: 2.8866e-05 - accuracy: 1.0000 - val_loss: 6.3714 - val_accuracy: 0.2689 - lr: 5.4379e-04 - 105s/epoch - 10s/step\n",
            "Epoch 22/100\n",
            "10/10 - 117s - loss: 1.1446e-05 - accuracy: 1.0000 - val_loss: 6.4331 - val_accuracy: 0.2689 - lr: 5.2748e-04 - 117s/epoch - 12s/step\n",
            "Epoch 23/100\n",
            "10/10 - 106s - loss: 5.2434e-05 - accuracy: 1.0000 - val_loss: 6.4862 - val_accuracy: 0.2689 - lr: 5.1166e-04 - 106s/epoch - 11s/step\n",
            "Epoch 24/100\n",
            "10/10 - 106s - loss: 3.3211e-05 - accuracy: 1.0000 - val_loss: 6.5372 - val_accuracy: 0.2689 - lr: 4.9631e-04 - 106s/epoch - 11s/step\n",
            "Epoch 25/100\n",
            "10/10 - 117s - loss: 3.3347e-05 - accuracy: 1.0000 - val_loss: 6.5799 - val_accuracy: 0.2689 - lr: 4.8142e-04 - 117s/epoch - 12s/step\n",
            "Epoch 26/100\n",
            "10/10 - 117s - loss: 2.3984e-05 - accuracy: 1.0000 - val_loss: 6.6176 - val_accuracy: 0.2689 - lr: 4.6697e-04 - 117s/epoch - 12s/step\n",
            "Epoch 27/100\n",
            "10/10 - 116s - loss: 1.7337e-05 - accuracy: 1.0000 - val_loss: 6.6390 - val_accuracy: 0.2689 - lr: 4.5297e-04 - 116s/epoch - 12s/step\n",
            "Epoch 28/100\n",
            "10/10 - 117s - loss: 1.8784e-05 - accuracy: 1.0000 - val_loss: 6.6592 - val_accuracy: 0.2689 - lr: 4.3938e-04 - 117s/epoch - 12s/step\n",
            "Epoch 29/100\n",
            "10/10 - 106s - loss: 1.2472e-05 - accuracy: 1.0000 - val_loss: 6.6709 - val_accuracy: 0.2689 - lr: 4.2620e-04 - 106s/epoch - 11s/step\n",
            "Epoch 30/100\n",
            "10/10 - 116s - loss: 5.1248e-06 - accuracy: 1.0000 - val_loss: 6.6749 - val_accuracy: 0.2689 - lr: 4.1341e-04 - 116s/epoch - 12s/step\n",
            "Epoch 31/100\n",
            "10/10 - 106s - loss: 2.8897e-05 - accuracy: 1.0000 - val_loss: 6.6760 - val_accuracy: 0.2689 - lr: 4.0101e-04 - 106s/epoch - 11s/step\n",
            "Epoch 32/100\n",
            "10/10 - 106s - loss: 2.9086e-05 - accuracy: 1.0000 - val_loss: 6.6689 - val_accuracy: 0.2689 - lr: 3.8898e-04 - 106s/epoch - 11s/step\n",
            "Epoch 33/100\n",
            "10/10 - 117s - loss: 9.6020e-06 - accuracy: 1.0000 - val_loss: 6.6584 - val_accuracy: 0.2689 - lr: 3.7731e-04 - 117s/epoch - 12s/step\n",
            "Epoch 34/100\n",
            "10/10 - 116s - loss: 2.0534e-05 - accuracy: 1.0000 - val_loss: 6.6437 - val_accuracy: 0.2689 - lr: 3.6599e-04 - 116s/epoch - 12s/step\n",
            "Epoch 35/100\n",
            "10/10 - 106s - loss: 3.5815e-05 - accuracy: 1.0000 - val_loss: 6.6279 - val_accuracy: 0.2689 - lr: 3.5501e-04 - 106s/epoch - 11s/step\n",
            "Epoch 36/100\n",
            "10/10 - 116s - loss: 7.3622e-06 - accuracy: 1.0000 - val_loss: 6.6048 - val_accuracy: 0.2689 - lr: 3.4436e-04 - 116s/epoch - 12s/step\n",
            "Epoch 37/100\n",
            "10/10 - 117s - loss: 1.0659e-05 - accuracy: 1.0000 - val_loss: 6.5785 - val_accuracy: 0.2689 - lr: 3.3403e-04 - 117s/epoch - 12s/step\n",
            "Epoch 38/100\n",
            "10/10 - 117s - loss: 6.8435e-06 - accuracy: 1.0000 - val_loss: 6.5399 - val_accuracy: 0.2689 - lr: 3.2401e-04 - 117s/epoch - 12s/step\n",
            "Epoch 39/100\n",
            "10/10 - 117s - loss: 2.2892e-05 - accuracy: 1.0000 - val_loss: 6.4895 - val_accuracy: 0.2689 - lr: 3.1429e-04 - 117s/epoch - 12s/step\n",
            "Epoch 40/100\n",
            "10/10 - 106s - loss: 1.6848e-05 - accuracy: 1.0000 - val_loss: 6.4491 - val_accuracy: 0.2689 - lr: 3.0486e-04 - 106s/epoch - 11s/step\n",
            "Epoch 41/100\n",
            "10/10 - 116s - loss: 9.9977e-06 - accuracy: 1.0000 - val_loss: 6.3959 - val_accuracy: 0.2689 - lr: 2.9571e-04 - 116s/epoch - 12s/step\n",
            "Epoch 42/100\n",
            "10/10 - 107s - loss: 1.2573e-05 - accuracy: 1.0000 - val_loss: 6.3155 - val_accuracy: 0.2689 - lr: 2.8684e-04 - 107s/epoch - 11s/step\n",
            "Epoch 43/100\n",
            "10/10 - 106s - loss: 1.0760e-05 - accuracy: 1.0000 - val_loss: 6.2069 - val_accuracy: 0.2689 - lr: 2.7824e-04 - 106s/epoch - 11s/step\n",
            "Epoch 44/100\n",
            "10/10 - 116s - loss: 8.0890e-05 - accuracy: 1.0000 - val_loss: 6.0985 - val_accuracy: 0.2689 - lr: 2.6989e-04 - 116s/epoch - 12s/step\n",
            "Epoch 45/100\n",
            "10/10 - 117s - loss: 6.3441e-06 - accuracy: 1.0000 - val_loss: 6.0441 - val_accuracy: 0.2689 - lr: 2.6179e-04 - 117s/epoch - 12s/step\n",
            "Epoch 46/100\n",
            "10/10 - 116s - loss: 2.0905e-05 - accuracy: 1.0000 - val_loss: 5.9460 - val_accuracy: 0.2689 - lr: 2.5394e-04 - 116s/epoch - 12s/step\n",
            "Epoch 47/100\n",
            "10/10 - 106s - loss: 7.2152e-06 - accuracy: 1.0000 - val_loss: 5.8020 - val_accuracy: 0.2689 - lr: 2.4632e-04 - 106s/epoch - 11s/step\n",
            "Epoch 48/100\n",
            "10/10 - 106s - loss: 1.0216e-04 - accuracy: 1.0000 - val_loss: 5.6433 - val_accuracy: 0.2689 - lr: 2.3893e-04 - 106s/epoch - 11s/step\n",
            "Epoch 49/100\n",
            "10/10 - 116s - loss: 2.7657e-05 - accuracy: 1.0000 - val_loss: 5.4752 - val_accuracy: 0.2689 - lr: 2.3176e-04 - 116s/epoch - 12s/step\n",
            "Epoch 50/100\n",
            "10/10 - 116s - loss: 5.8672e-06 - accuracy: 1.0000 - val_loss: 5.2668 - val_accuracy: 0.2689 - lr: 2.2481e-04 - 116s/epoch - 12s/step\n",
            "Epoch 51/100\n",
            "10/10 - 106s - loss: 6.5663e-06 - accuracy: 1.0000 - val_loss: 5.0194 - val_accuracy: 0.2689 - lr: 2.1807e-04 - 106s/epoch - 11s/step\n",
            "Epoch 52/100\n",
            "10/10 - 106s - loss: 2.7174e-05 - accuracy: 1.0000 - val_loss: 4.7497 - val_accuracy: 0.4151 - lr: 2.1152e-04 - 106s/epoch - 11s/step\n",
            "Epoch 53/100\n",
            "10/10 - 116s - loss: 5.9839e-05 - accuracy: 1.0000 - val_loss: 4.4614 - val_accuracy: 0.4151 - lr: 2.0518e-04 - 116s/epoch - 12s/step\n",
            "Epoch 54/100\n",
            "10/10 - 106s - loss: 3.8058e-05 - accuracy: 1.0000 - val_loss: 4.1703 - val_accuracy: 0.4151 - lr: 1.9902e-04 - 106s/epoch - 11s/step\n",
            "Epoch 55/100\n",
            "10/10 - 107s - loss: 2.4144e-05 - accuracy: 1.0000 - val_loss: 3.9320 - val_accuracy: 0.4151 - lr: 1.9305e-04 - 107s/epoch - 11s/step\n",
            "Epoch 56/100\n",
            "10/10 - 116s - loss: 4.2664e-05 - accuracy: 1.0000 - val_loss: 3.6704 - val_accuracy: 0.4151 - lr: 1.8726e-04 - 116s/epoch - 12s/step\n",
            "Epoch 57/100\n",
            "10/10 - 106s - loss: 1.2730e-04 - accuracy: 1.0000 - val_loss: 3.5520 - val_accuracy: 0.6557 - lr: 1.8164e-04 - 106s/epoch - 11s/step\n",
            "Epoch 58/100\n",
            "10/10 - 105s - loss: 4.7449e-05 - accuracy: 1.0000 - val_loss: 3.5244 - val_accuracy: 0.6557 - lr: 1.7619e-04 - 105s/epoch - 11s/step\n",
            "Epoch 59/100\n",
            "10/10 - 106s - loss: 7.7318e-05 - accuracy: 1.0000 - val_loss: 3.4125 - val_accuracy: 0.6557 - lr: 1.7091e-04 - 106s/epoch - 11s/step\n",
            "Epoch 60/100\n",
            "10/10 - 116s - loss: 3.2535e-05 - accuracy: 1.0000 - val_loss: 3.5684 - val_accuracy: 0.6557 - lr: 1.6578e-04 - 116s/epoch - 12s/step\n",
            "Epoch 61/100\n",
            "10/10 - 108s - loss: 9.0878e-06 - accuracy: 1.0000 - val_loss: 5.4120 - val_accuracy: 0.2406 - lr: 1.6081e-04 - 108s/epoch - 11s/step\n",
            "Epoch 62/100\n",
            "10/10 - 117s - loss: 1.0338e-05 - accuracy: 1.0000 - val_loss: 6.3246 - val_accuracy: 0.2406 - lr: 1.5598e-04 - 117s/epoch - 12s/step\n",
            "Epoch 63/100\n",
            "10/10 - 106s - loss: 1.3657e-05 - accuracy: 1.0000 - val_loss: 7.6065 - val_accuracy: 0.2406 - lr: 1.5130e-04 - 106s/epoch - 11s/step\n",
            "Epoch 64/100\n",
            "10/10 - 105s - loss: 3.5784e-05 - accuracy: 1.0000 - val_loss: 6.9089 - val_accuracy: 0.2406 - lr: 1.4676e-04 - 105s/epoch - 11s/step\n",
            "Epoch 65/100\n",
            "10/10 - 106s - loss: 3.9259e-05 - accuracy: 1.0000 - val_loss: 6.0357 - val_accuracy: 0.3868 - lr: 1.4236e-04 - 106s/epoch - 11s/step\n",
            "Epoch 66/100\n",
            "10/10 - 106s - loss: 3.2071e-05 - accuracy: 1.0000 - val_loss: 5.1229 - val_accuracy: 0.3868 - lr: 1.3809e-04 - 106s/epoch - 11s/step\n",
            "Epoch 67/100\n",
            "10/10 - 106s - loss: 3.7386e-05 - accuracy: 1.0000 - val_loss: 4.2333 - val_accuracy: 0.3868 - lr: 1.3395e-04 - 106s/epoch - 11s/step\n",
            "Epoch 68/100\n",
            "10/10 - 105s - loss: 1.0541e-05 - accuracy: 1.0000 - val_loss: 3.3624 - val_accuracy: 0.5708 - lr: 1.2993e-04 - 105s/epoch - 11s/step\n",
            "Epoch 69/100\n",
            "10/10 - 117s - loss: 1.7795e-05 - accuracy: 1.0000 - val_loss: 3.0928 - val_accuracy: 0.5708 - lr: 1.2603e-04 - 117s/epoch - 12s/step\n",
            "Epoch 70/100\n",
            "10/10 - 108s - loss: 5.8789e-05 - accuracy: 1.0000 - val_loss: 7.0352 - val_accuracy: 0.3868 - lr: 1.2225e-04 - 108s/epoch - 11s/step\n",
            "Epoch 71/100\n",
            "10/10 - 106s - loss: 3.4501e-05 - accuracy: 1.0000 - val_loss: 9.8132 - val_accuracy: 0.3868 - lr: 1.1858e-04 - 106s/epoch - 11s/step\n",
            "Epoch 72/100\n",
            "10/10 - 106s - loss: 1.1284e-05 - accuracy: 1.0000 - val_loss: 9.1522 - val_accuracy: 0.3868 - lr: 1.1503e-04 - 106s/epoch - 11s/step\n",
            "Epoch 73/100\n",
            "10/10 - 116s - loss: 1.3396e-05 - accuracy: 1.0000 - val_loss: 7.4852 - val_accuracy: 0.3868 - lr: 1.1157e-04 - 116s/epoch - 12s/step\n",
            "Epoch 74/100\n",
            "10/10 - 106s - loss: 1.2037e-05 - accuracy: 1.0000 - val_loss: 8.1813 - val_accuracy: 0.3868 - lr: 1.0823e-04 - 106s/epoch - 11s/step\n",
            "Epoch 75/100\n",
            "10/10 - 104s - loss: 4.2174e-05 - accuracy: 1.0000 - val_loss: 3.1636 - val_accuracy: 0.5708 - lr: 1.0498e-04 - 104s/epoch - 10s/step\n",
            "Epoch 76/100\n",
            "10/10 - 116s - loss: 1.2012e-05 - accuracy: 1.0000 - val_loss: 1.7594 - val_accuracy: 0.6698 - lr: 1.0183e-04 - 116s/epoch - 12s/step\n",
            "Epoch 77/100\n",
            "10/10 - 106s - loss: 1.1096e-05 - accuracy: 1.0000 - val_loss: 0.6718 - val_accuracy: 0.8585 - lr: 9.8776e-05 - 106s/epoch - 11s/step\n",
            "Epoch 78/100\n",
            "10/10 - 115s - loss: 1.1025e-05 - accuracy: 1.0000 - val_loss: 0.1697 - val_accuracy: 0.8585 - lr: 9.5813e-05 - 115s/epoch - 12s/step\n",
            "Epoch 79/100\n",
            "10/10 - 117s - loss: 9.8705e-06 - accuracy: 1.0000 - val_loss: 0.0114 - val_accuracy: 1.0000 - lr: 9.2938e-05 - 117s/epoch - 12s/step\n",
            "Epoch 80/100\n",
            "10/10 - 116s - loss: 1.4952e-05 - accuracy: 1.0000 - val_loss: 0.0019 - val_accuracy: 1.0000 - lr: 9.0150e-05 - 116s/epoch - 12s/step\n",
            "Epoch 81/100\n",
            "10/10 - 107s - loss: 9.7989e-06 - accuracy: 1.0000 - val_loss: 4.0677e-04 - val_accuracy: 1.0000 - lr: 8.7446e-05 - 107s/epoch - 11s/step\n",
            "Epoch 82/100\n",
            "10/10 - 107s - loss: 1.3719e-05 - accuracy: 1.0000 - val_loss: 0.0068 - val_accuracy: 1.0000 - lr: 8.4822e-05 - 107s/epoch - 11s/step\n",
            "Epoch 83/100\n",
            "10/10 - 111s - loss: 2.8859e-05 - accuracy: 1.0000 - val_loss: 0.9047 - val_accuracy: 0.7170 - lr: 8.2278e-05 - 111s/epoch - 11s/step\n",
            "Epoch 84/100\n",
            "10/10 - 106s - loss: 6.9101e-06 - accuracy: 1.0000 - val_loss: 3.3330 - val_accuracy: 0.6321 - lr: 7.9809e-05 - 106s/epoch - 11s/step\n",
            "Epoch 85/100\n",
            "10/10 - 106s - loss: 6.2337e-05 - accuracy: 1.0000 - val_loss: 0.0011 - val_accuracy: 1.0000 - lr: 7.7415e-05 - 106s/epoch - 11s/step\n",
            "Epoch 86/100\n",
            "10/10 - 116s - loss: 2.4052e-05 - accuracy: 1.0000 - val_loss: 0.3837 - val_accuracy: 0.8585 - lr: 7.5093e-05 - 116s/epoch - 12s/step\n",
            "Epoch 87/100\n",
            "10/10 - 106s - loss: 2.8920e-05 - accuracy: 1.0000 - val_loss: 0.9399 - val_accuracy: 0.7736 - lr: 7.2840e-05 - 106s/epoch - 11s/step\n",
            "Epoch 88/100\n",
            "10/10 - 116s - loss: 4.0615e-05 - accuracy: 1.0000 - val_loss: 0.5683 - val_accuracy: 0.8585 - lr: 7.0655e-05 - 116s/epoch - 12s/step\n",
            "Epoch 89/100\n",
            "10/10 - 106s - loss: 3.8405e-05 - accuracy: 1.0000 - val_loss: 0.0212 - val_accuracy: 1.0000 - lr: 6.8535e-05 - 106s/epoch - 11s/step\n",
            "Epoch 90/100\n",
            "10/10 - 105s - loss: 1.0960e-05 - accuracy: 1.0000 - val_loss: 2.2504e-04 - val_accuracy: 1.0000 - lr: 6.6479e-05 - 105s/epoch - 11s/step\n",
            "Epoch 91/100\n",
            "10/10 - 117s - loss: 1.3501e-05 - accuracy: 1.0000 - val_loss: 3.0828e-05 - val_accuracy: 1.0000 - lr: 6.4485e-05 - 117s/epoch - 12s/step\n",
            "Epoch 92/100\n",
            "10/10 - 109s - loss: 1.0642e-05 - accuracy: 1.0000 - val_loss: 4.9676e-05 - val_accuracy: 1.0000 - lr: 6.2550e-05 - 109s/epoch - 11s/step\n",
            "Epoch 93/100\n",
            "10/10 - 106s - loss: 1.5198e-05 - accuracy: 1.0000 - val_loss: 9.8736e-05 - val_accuracy: 1.0000 - lr: 6.0674e-05 - 106s/epoch - 11s/step\n",
            "Epoch 94/100\n",
            "10/10 - 106s - loss: 3.7796e-05 - accuracy: 1.0000 - val_loss: 1.1556 - val_accuracy: 0.6934 - lr: 5.8853e-05 - 106s/epoch - 11s/step\n",
            "Epoch 95/100\n",
            "10/10 - 116s - loss: 2.9939e-06 - accuracy: 1.0000 - val_loss: 6.2797 - val_accuracy: 0.3868 - lr: 5.7088e-05 - 116s/epoch - 12s/step\n",
            "Epoch 96/100\n",
            "10/10 - 107s - loss: 5.0321e-06 - accuracy: 1.0000 - val_loss: 7.0032 - val_accuracy: 0.3868 - lr: 5.5375e-05 - 107s/epoch - 11s/step\n",
            "Epoch 97/100\n",
            "10/10 - 107s - loss: 1.3248e-05 - accuracy: 1.0000 - val_loss: 6.6662 - val_accuracy: 0.3868 - lr: 5.3714e-05 - 107s/epoch - 11s/step\n",
            "Epoch 98/100\n",
            "10/10 - 117s - loss: 2.7899e-04 - accuracy: 1.0000 - val_loss: 0.3291 - val_accuracy: 0.8585 - lr: 5.2102e-05 - 117s/epoch - 12s/step\n",
            "Epoch 99/100\n",
            "10/10 - 117s - loss: 8.2188e-06 - accuracy: 1.0000 - val_loss: 6.0424e-06 - val_accuracy: 1.0000 - lr: 5.0539e-05 - 117s/epoch - 12s/step\n",
            "Epoch 100/100\n",
            "10/10 - 106s - loss: 6.4406e-05 - accuracy: 1.0000 - val_loss: 11.9129 - val_accuracy: 0.3868 - lr: 4.9023e-05 - 106s/epoch - 11s/step\n"
          ]
        }
      ]
    },
    {
      "cell_type": "code",
      "source": [
        "test_loss, test_accuracy = stft_model.evaluate(X_test, Y_test, verbose=0)\n",
        "print(\"Test Accuracy:\", test_accuracy)\n"
      ],
      "metadata": {
        "colab": {
          "base_uri": "https://localhost:8080/"
        },
        "id": "1sQqMIzvZm0Z",
        "outputId": "117bf0ef-834b-4376-e29a-16132112d0a4"
      },
      "execution_count": null,
      "outputs": [
        {
          "output_type": "stream",
          "name": "stdout",
          "text": [
            "Test Accuracy: 1.0\n"
          ]
        }
      ]
    }
  ]
}