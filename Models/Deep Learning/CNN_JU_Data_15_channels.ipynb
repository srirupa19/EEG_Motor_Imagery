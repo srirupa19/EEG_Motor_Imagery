{
  "nbformat": 4,
  "nbformat_minor": 0,
  "metadata": {
    "colab": {
      "provenance": []
    },
    "kernelspec": {
      "name": "python3",
      "display_name": "Python 3"
    },
    "language_info": {
      "name": "python"
    }
  },
  "cells": [
    {
      "cell_type": "code",
      "execution_count": 1,
      "metadata": {
        "colab": {
          "base_uri": "https://localhost:8080/"
        },
        "id": "MTEeQ6yDg2De",
        "outputId": "c1a7fb2a-0616-42b0-a896-00494780b4bb"
      },
      "outputs": [
        {
          "output_type": "stream",
          "name": "stdout",
          "text": [
            "Mounted at /content/drive\n"
          ]
        }
      ],
      "source": [
        "from google.colab import drive\n",
        "drive.mount('/content/drive')"
      ]
    },
    {
      "cell_type": "markdown",
      "source": [
        "#Notebook Description :\n",
        "####1. Number of channels: 15\n",
        "####2. Range of Deltta: [0.0001, 0.0005]\n",
        "####3. Filter Applied: No"
      ],
      "metadata": {
        "id": "laWiX7LtIHdH"
      }
    },
    {
      "cell_type": "code",
      "source": [
        "!pip install mne\n"
      ],
      "metadata": {
        "colab": {
          "base_uri": "https://localhost:8080/"
        },
        "id": "5ll1n1z8hdaY",
        "outputId": "bd38b7fd-d623-4fed-ee27-c861a2d3815e"
      },
      "execution_count": 2,
      "outputs": [
        {
          "output_type": "stream",
          "name": "stdout",
          "text": [
            "Collecting mne\n",
            "  Downloading mne-1.4.2-py3-none-any.whl (7.7 MB)\n",
            "\u001b[?25l     \u001b[90m━━━━━━━━━━━━━━━━━━━━━━━━━━━━━━━━━━━━━━━━\u001b[0m \u001b[32m0.0/7.7 MB\u001b[0m \u001b[31m?\u001b[0m eta \u001b[36m-:--:--\u001b[0m\r\u001b[2K     \u001b[91m━\u001b[0m\u001b[90m╺\u001b[0m\u001b[90m━━━━━━━━━━━━━━━━━━━━━━━━━━━━━━━━━━━━━━\u001b[0m \u001b[32m0.2/7.7 MB\u001b[0m \u001b[31m7.6 MB/s\u001b[0m eta \u001b[36m0:00:01\u001b[0m\r\u001b[2K     \u001b[91m━━━━━━━━━━━\u001b[0m\u001b[91m╸\u001b[0m\u001b[90m━━━━━━━━━━━━━━━━━━━━━━━━━━━━\u001b[0m \u001b[32m2.2/7.7 MB\u001b[0m \u001b[31m32.4 MB/s\u001b[0m eta \u001b[36m0:00:01\u001b[0m\r\u001b[2K     \u001b[91m━━━━━━━━━━━━━━━━━━━━━━━━\u001b[0m\u001b[90m╺\u001b[0m\u001b[90m━━━━━━━━━━━━━━━\u001b[0m \u001b[32m4.6/7.7 MB\u001b[0m \u001b[31m44.8 MB/s\u001b[0m eta \u001b[36m0:00:01\u001b[0m\r\u001b[2K     \u001b[91m━━━━━━━━━━━━━━━━━━━━━━━━━━━━━━━━━━━━━━━\u001b[0m\u001b[91m╸\u001b[0m \u001b[32m7.7/7.7 MB\u001b[0m \u001b[31m64.2 MB/s\u001b[0m eta \u001b[36m0:00:01\u001b[0m\r\u001b[2K     \u001b[90m━━━━━━━━━━━━━━━━━━━━━━━━━━━━━━━━━━━━━━━━\u001b[0m \u001b[32m7.7/7.7 MB\u001b[0m \u001b[31m53.9 MB/s\u001b[0m eta \u001b[36m0:00:00\u001b[0m\n",
            "\u001b[?25hRequirement already satisfied: numpy>=1.15.4 in /usr/local/lib/python3.10/dist-packages (from mne) (1.22.4)\n",
            "Requirement already satisfied: scipy>=1.6.3 in /usr/local/lib/python3.10/dist-packages (from mne) (1.10.1)\n",
            "Requirement already satisfied: matplotlib>=3.4.0 in /usr/local/lib/python3.10/dist-packages (from mne) (3.7.1)\n",
            "Requirement already satisfied: tqdm in /usr/local/lib/python3.10/dist-packages (from mne) (4.65.0)\n",
            "Requirement already satisfied: pooch>=1.5 in /usr/local/lib/python3.10/dist-packages (from mne) (1.6.0)\n",
            "Requirement already satisfied: decorator in /usr/local/lib/python3.10/dist-packages (from mne) (4.4.2)\n",
            "Requirement already satisfied: packaging in /usr/local/lib/python3.10/dist-packages (from mne) (23.1)\n",
            "Requirement already satisfied: jinja2 in /usr/local/lib/python3.10/dist-packages (from mne) (3.1.2)\n",
            "Requirement already satisfied: contourpy>=1.0.1 in /usr/local/lib/python3.10/dist-packages (from matplotlib>=3.4.0->mne) (1.1.0)\n",
            "Requirement already satisfied: cycler>=0.10 in /usr/local/lib/python3.10/dist-packages (from matplotlib>=3.4.0->mne) (0.11.0)\n",
            "Requirement already satisfied: fonttools>=4.22.0 in /usr/local/lib/python3.10/dist-packages (from matplotlib>=3.4.0->mne) (4.40.0)\n",
            "Requirement already satisfied: kiwisolver>=1.0.1 in /usr/local/lib/python3.10/dist-packages (from matplotlib>=3.4.0->mne) (1.4.4)\n",
            "Requirement already satisfied: pillow>=6.2.0 in /usr/local/lib/python3.10/dist-packages (from matplotlib>=3.4.0->mne) (8.4.0)\n",
            "Requirement already satisfied: pyparsing>=2.3.1 in /usr/local/lib/python3.10/dist-packages (from matplotlib>=3.4.0->mne) (3.1.0)\n",
            "Requirement already satisfied: python-dateutil>=2.7 in /usr/local/lib/python3.10/dist-packages (from matplotlib>=3.4.0->mne) (2.8.2)\n",
            "Requirement already satisfied: appdirs>=1.3.0 in /usr/local/lib/python3.10/dist-packages (from pooch>=1.5->mne) (1.4.4)\n",
            "Requirement already satisfied: requests>=2.19.0 in /usr/local/lib/python3.10/dist-packages (from pooch>=1.5->mne) (2.27.1)\n",
            "Requirement already satisfied: MarkupSafe>=2.0 in /usr/local/lib/python3.10/dist-packages (from jinja2->mne) (2.1.3)\n",
            "Requirement already satisfied: six>=1.5 in /usr/local/lib/python3.10/dist-packages (from python-dateutil>=2.7->matplotlib>=3.4.0->mne) (1.16.0)\n",
            "Requirement already satisfied: urllib3<1.27,>=1.21.1 in /usr/local/lib/python3.10/dist-packages (from requests>=2.19.0->pooch>=1.5->mne) (1.26.16)\n",
            "Requirement already satisfied: certifi>=2017.4.17 in /usr/local/lib/python3.10/dist-packages (from requests>=2.19.0->pooch>=1.5->mne) (2023.5.7)\n",
            "Requirement already satisfied: charset-normalizer~=2.0.0 in /usr/local/lib/python3.10/dist-packages (from requests>=2.19.0->pooch>=1.5->mne) (2.0.12)\n",
            "Requirement already satisfied: idna<4,>=2.5 in /usr/local/lib/python3.10/dist-packages (from requests>=2.19.0->pooch>=1.5->mne) (3.4)\n",
            "Installing collected packages: mne\n",
            "Successfully installed mne-1.4.2\n"
          ]
        }
      ]
    },
    {
      "cell_type": "code",
      "source": [
        "import json\n",
        "import numpy as np\n",
        "from scipy import signal\n",
        "import mne\n",
        "\n",
        "path = '/content/drive/My Drive/ML/Data/'\n",
        "\n",
        "left_hand1 = mne.io.read_raw_edf(path + 'T1_lefthand.edf')\n",
        "left_hand2 = mne.io.read_raw_edf(path + 'T2_lefthand.edf')\n",
        "left_hand3 = mne.io.read_raw_edf(path + 'T3_lefthand.edf')\n",
        "\n",
        "right_hand1 = mne.io.read_raw_edf(path + 'T1_righthand.edf')\n",
        "right_hand2 = mne.io.read_raw_edf(path + 'T2_righthand.edf')\n",
        "right_hand3 = mne.io.read_raw_edf(path + 'T3_righthand.edf')\n",
        "\n",
        "left_leg1 = mne.io.read_raw_edf(path + 'T1_leftleg.edf')\n",
        "left_leg2 = mne.io.read_raw_edf(path + 'T2_leftleg.edf')\n",
        "left_leg3 = mne.io.read_raw_edf(path + 'T3_leftleg.edf')\n",
        "\n",
        "right_leg1 = mne.io.read_raw_edf(path + 'T1_rightleg.edf')\n",
        "right_leg2 = mne.io.read_raw_edf(path + 'T2_rightleg.edf')\n",
        "right_leg3 = mne.io.read_raw_edf(path + 'T3_rightleg.edf')\n"
      ],
      "metadata": {
        "colab": {
          "base_uri": "https://localhost:8080/"
        },
        "id": "dkoStjqrhXYM",
        "outputId": "f76d80c4-6ee1-4b89-b543-452d059d81fd"
      },
      "execution_count": 3,
      "outputs": [
        {
          "output_type": "stream",
          "name": "stdout",
          "text": [
            "Extracting EDF parameters from /content/drive/My Drive/ML/Data/T1_lefthand.edf...\n",
            "EDF file detected\n",
            "Setting channel info structure...\n",
            "Creating raw.info structure...\n",
            "Extracting EDF parameters from /content/drive/My Drive/ML/Data/T2_lefthand.edf...\n",
            "EDF file detected\n",
            "Setting channel info structure...\n",
            "Creating raw.info structure...\n",
            "Extracting EDF parameters from /content/drive/My Drive/ML/Data/T3_lefthand.edf...\n",
            "EDF file detected\n",
            "Setting channel info structure...\n",
            "Creating raw.info structure...\n",
            "Extracting EDF parameters from /content/drive/My Drive/ML/Data/T1_righthand.edf...\n",
            "EDF file detected\n",
            "Setting channel info structure...\n",
            "Creating raw.info structure...\n",
            "Extracting EDF parameters from /content/drive/My Drive/ML/Data/T2_righthand.edf...\n",
            "EDF file detected\n",
            "Setting channel info structure...\n",
            "Creating raw.info structure...\n",
            "Extracting EDF parameters from /content/drive/My Drive/ML/Data/T3_righthand.edf...\n",
            "EDF file detected\n",
            "Setting channel info structure...\n",
            "Creating raw.info structure...\n",
            "Extracting EDF parameters from /content/drive/My Drive/ML/Data/T1_leftleg.edf...\n",
            "EDF file detected\n",
            "Setting channel info structure...\n",
            "Creating raw.info structure...\n",
            "Extracting EDF parameters from /content/drive/My Drive/ML/Data/T2_leftleg.edf...\n",
            "EDF file detected\n",
            "Setting channel info structure...\n",
            "Creating raw.info structure...\n",
            "Extracting EDF parameters from /content/drive/My Drive/ML/Data/T3_leftleg.edf...\n",
            "EDF file detected\n",
            "Setting channel info structure...\n",
            "Creating raw.info structure...\n",
            "Extracting EDF parameters from /content/drive/My Drive/ML/Data/T1_rightleg.edf...\n",
            "EDF file detected\n",
            "Setting channel info structure...\n",
            "Creating raw.info structure...\n",
            "Extracting EDF parameters from /content/drive/My Drive/ML/Data/T2_rightleg.edf...\n",
            "EDF file detected\n",
            "Setting channel info structure...\n",
            "Creating raw.info structure...\n",
            "Extracting EDF parameters from /content/drive/My Drive/ML/Data/T3_rightleg.edf...\n",
            "EDF file detected\n",
            "Setting channel info structure...\n",
            "Creating raw.info structure...\n"
          ]
        }
      ]
    },
    {
      "cell_type": "code",
      "source": [
        "left_hand1.ch_names"
      ],
      "metadata": {
        "colab": {
          "base_uri": "https://localhost:8080/"
        },
        "id": "UjDyz3HBTAz9",
        "outputId": "41d17b75-0bc0-4ce4-8c99-fbd94c15dc6e"
      },
      "execution_count": null,
      "outputs": [
        {
          "output_type": "execute_result",
          "data": {
            "text/plain": [
              "['Fp1-A1',\n",
              " 'Fp2-A2',\n",
              " 'F3-A1',\n",
              " 'F4-A2',\n",
              " 'C3-A1',\n",
              " 'C4-A2',\n",
              " 'P3-A1',\n",
              " 'P4-A2',\n",
              " 'P4-A3',\n",
              " 'P4-A4',\n",
              " 'P4-A5',\n",
              " 'P4-A6',\n",
              " 'P4-A7',\n",
              " 'P4-A8',\n",
              " 'P4-A9',\n",
              " 'P4-A10',\n",
              " 'P4-A11',\n",
              " 'P4-A12',\n",
              " 'P4-A13',\n",
              " 'Status']"
            ]
          },
          "metadata": {},
          "execution_count": 5
        }
      ]
    },
    {
      "cell_type": "code",
      "source": [
        "left1 = left_hand1.get_data(picks = ['Fp1-A1','Fp2-A2','F3-A1','F4-A2','P4-A8','P3-A1','P4-A2','C3-A1','C4-A2','P4-A8','P3-A1','P4-A2','P4-A10','P4-A4','P4-A11',]).reshape(1, 15, 5500)\n",
        "left2 = left_hand2.get_data(picks = ['Fp1-A1','Fp2-A2','F3-A1','F4-A2','P4-A8','P3-A1','P4-A2','C3-A1','C4-A2','P4-A8','P3-A1','P4-A2','P4-A10','P4-A4','P4-A11',]).reshape(1, 15, 5500)\n",
        "left3 = left_hand3.get_data(picks = ['Fp1-A1','Fp2-A2','F3-A1','F4-A2','P4-A8','P3-A1','P4-A2','C3-A1','C4-A2','P4-A8','P3-A1','P4-A2','P4-A10','P4-A4','P4-A11',]).reshape(1, 15, 5500)\n",
        "left_hand = np.concatenate((left1,left2,left3))\n",
        "\n",
        "right1 = right_hand1.get_data(picks = ['Fp1-A1','Fp2-A2','F3-A1','F4-A2','P4-A8','P3-A1','P4-A2','C3-A1','C4-A2','P4-A8','P3-A1','P4-A2','P4-A10','P4-A4','P4-A11',]).reshape(1, 15, 5500)\n",
        "right2 = right_hand2.get_data(picks = ['Fp1-A1','Fp2-A2','F3-A1','F4-A2','P4-A8','P3-A1','P4-A2','C3-A1','C4-A2','P4-A8','P3-A1','P4-A2','P4-A10','P4-A4','P4-A11',]).reshape(1, 15, 5500)\n",
        "right3 = right_hand3.get_data(picks = ['Fp1-A1','Fp2-A2','F3-A1','F4-A2','P4-A8','P3-A1','P4-A2','C3-A1','C4-A2','P4-A8','P3-A1','P4-A2','P4-A10','P4-A4','P4-A11',]).reshape(1, 15, 5500)\n",
        "right_hand = np.concatenate((right1,right2,right3))\n",
        "\n",
        "lfeet1 = left_leg1.get_data(picks = ['Fp1-A1','Fp2-A2','F3-A1','F4-A2','P4-A8','P3-A1','P4-A2','C3-A1','C4-A2','P4-A8','P3-A1','P4-A2','P4-A10','P4-A4','P4-A11',]).reshape(1, 15, 5500)\n",
        "lfeet2 = left_leg2.get_data(picks = ['Fp1-A1','Fp2-A2','F3-A1','F4-A2','P4-A8','P3-A1','P4-A2','C3-A1','C4-A2','P4-A8','P3-A1','P4-A2','P4-A10','P4-A4','P4-A11',]).reshape(1, 15, 5500)\n",
        "lfeet3 = left_leg3.get_data(picks = ['Fp1-A1','Fp2-A2','F3-A1','F4-A2','P4-A8','P3-A1','P4-A2','C3-A1','C4-A2','P4-A8','P3-A1','P4-A2','P4-A10','P4-A4','P4-A11',]).reshape(1, 15, 5500)\n",
        "left_leg = np.concatenate((lfeet1, lfeet2, lfeet3))\n",
        "\n",
        "rfeet1 = right_leg1.get_data(picks = ['Fp1-A1','Fp2-A2','F3-A1','F4-A2','P4-A8','P3-A1','P4-A2','C3-A1','C4-A2','P4-A8','P3-A1','P4-A2','P4-A10','P4-A4','P4-A11',]).reshape(1, 15, 5500)\n",
        "rfeet2 = right_leg2.get_data(picks = ['Fp1-A1','Fp2-A2','F3-A1','F4-A2','P4-A8','P3-A1','P4-A2','C3-A1','C4-A2','P4-A8','P3-A1','P4-A2','P4-A10','P4-A4','P4-A11',]).reshape(1, 15, 5500)\n",
        "rfeet3 = right_leg3.get_data(picks = ['Fp1-A1','Fp2-A2','F3-A1','F4-A2','P4-A8','P3-A1','P4-A2','C3-A1','C4-A2','P4-A8','P3-A1','P4-A2','P4-A10','P4-A4','P4-A11',]).reshape(1, 15, 5500)\n",
        "right_leg = np.concatenate((rfeet1, rfeet2, rfeet3))\n"
      ],
      "metadata": {
        "id": "TKZt8rWLsoON"
      },
      "execution_count": 4,
      "outputs": []
    },
    {
      "cell_type": "code",
      "source": [
        "left_hand = left_hand[:, :, :5000]\n",
        "right_hand = right_hand[:, :, :5000]\n",
        "left_leg = left_leg[:, :, :5000]\n",
        "right_leg = right_leg[:, :, :5000]"
      ],
      "metadata": {
        "id": "gTmikRv4Qg2l"
      },
      "execution_count": 5,
      "outputs": []
    },
    {
      "cell_type": "code",
      "source": [
        "left_hand.shape"
      ],
      "metadata": {
        "colab": {
          "base_uri": "https://localhost:8080/"
        },
        "id": "JVd31ongTaxe",
        "outputId": "39d94670-91f2-43fe-d151-e0af134c32cb"
      },
      "execution_count": 6,
      "outputs": [
        {
          "output_type": "execute_result",
          "data": {
            "text/plain": [
              "(3, 15, 5000)"
            ]
          },
          "metadata": {},
          "execution_count": 6
        }
      ]
    },
    {
      "cell_type": "code",
      "source": [
        "import random\n",
        "\n",
        "def generate_artificial_data(real_data, num_samples=300, min_delta=0.0001, max_delta=0.0005):\n",
        "    artificial_data = []\n",
        "\n",
        "    for _ in range(num_samples):\n",
        "        # Select a random real data point\n",
        "        real_point = random.choice(real_data)\n",
        "\n",
        "        # Generate a random delta within the specified range\n",
        "        delta = random.uniform(min_delta, max_delta)\n",
        "\n",
        "        # Decide whether to add or subtract the delta\n",
        "        if random.choice([True, False]):\n",
        "            artificial_point = real_point + delta\n",
        "        else:\n",
        "            artificial_point = real_point - delta\n",
        "\n",
        "        artificial_data.append(artificial_point)\n",
        "\n",
        "    return artificial_data"
      ],
      "metadata": {
        "id": "UwqkOWxouFS9"
      },
      "execution_count": 7,
      "outputs": []
    },
    {
      "cell_type": "code",
      "source": [
        "fake_left_hand = np.array(generate_artificial_data(left_hand))\n",
        "fake_right_hand = np.array(generate_artificial_data(right_hand))\n",
        "fake_left_leg = np.array(generate_artificial_data(left_leg))\n",
        "fake_right_leg = np.array(generate_artificial_data(right_leg))"
      ],
      "metadata": {
        "id": "l2pofx4bvHx4"
      },
      "execution_count": 8,
      "outputs": []
    },
    {
      "cell_type": "code",
      "source": [
        "fake_left_hand.shape"
      ],
      "metadata": {
        "colab": {
          "base_uri": "https://localhost:8080/"
        },
        "id": "E3ecQ88kvfsx",
        "outputId": "5770f69b-a304-49f1-9d1d-5b561a36b6cc"
      },
      "execution_count": 9,
      "outputs": [
        {
          "output_type": "execute_result",
          "data": {
            "text/plain": [
              "(300, 15, 5000)"
            ]
          },
          "metadata": {},
          "execution_count": 9
        }
      ]
    },
    {
      "cell_type": "code",
      "source": [
        "num_classes = 4\n",
        "\n",
        "output_values = np.concatenate((np.tile(0, 303), np.tile(1, 303), np.tile(2, 303), np.tile(3, 303)))\n",
        "output_values = np.eye(num_classes)[output_values]\n",
        "\n",
        "data_array = np.concatenate((fake_left_hand, left_hand, fake_right_hand, right_hand, fake_left_leg, left_leg, fake_right_leg, right_leg))"
      ],
      "metadata": {
        "id": "62SBjwLOw2Zx"
      },
      "execution_count": 10,
      "outputs": []
    },
    {
      "cell_type": "code",
      "source": [
        "data_array = np.nan_to_num(data_array, nan=0)\n",
        "data_array.shape"
      ],
      "metadata": {
        "colab": {
          "base_uri": "https://localhost:8080/"
        },
        "id": "jT22B9BXxLeg",
        "outputId": "67d72990-ecfe-445a-a24c-113f4b934b35"
      },
      "execution_count": 11,
      "outputs": [
        {
          "output_type": "execute_result",
          "data": {
            "text/plain": [
              "(1212, 15, 5000)"
            ]
          },
          "metadata": {},
          "execution_count": 11
        }
      ]
    },
    {
      "cell_type": "code",
      "source": [
        "from sklearn.model_selection import train_test_split\n",
        "\n",
        "# Split the data into training and temporary sets\n",
        "X_train, X_test, Y_train, Y_test = train_test_split(data_array, output_values, test_size=0.2, random_state=42)"
      ],
      "metadata": {
        "id": "WL4IRoX0xed7"
      },
      "execution_count": 12,
      "outputs": []
    },
    {
      "cell_type": "code",
      "source": [
        "kernels, chans, samples = 1, 15, 5000\n",
        "\n",
        "X_train      = X_train.reshape(X_train.shape[0], chans, samples, kernels)\n",
        "X_test       = X_test.reshape(X_test.shape[0], chans, samples, kernels)"
      ],
      "metadata": {
        "id": "mjvDZdqIxw4P"
      },
      "execution_count": 13,
      "outputs": []
    },
    {
      "cell_type": "code",
      "source": [
        "from tensorflow.keras.models import Model\n",
        "from tensorflow.keras.layers import Dense, Activation, Permute, Dropout\n",
        "from tensorflow.keras.layers import Conv2D, MaxPooling2D, AveragePooling2D\n",
        "from tensorflow.keras.layers import SeparableConv2D, DepthwiseConv2D\n",
        "from tensorflow.keras.layers import BatchNormalization\n",
        "from tensorflow.keras.layers import SpatialDropout2D\n",
        "from tensorflow.keras.layers import Input, Flatten\n",
        "from tensorflow.keras.constraints import max_norm\n",
        "import tensorflow as tf\n",
        "from tensorflow.keras.layers import Concatenate\n",
        "\n",
        "\n",
        "def mish(inputs):\n",
        "    x = tf.nn.softplus(inputs)\n",
        "    x = tf.nn.tanh(x)\n",
        "    x = tf.multiply(x, inputs)\n",
        "    return x\n",
        "def EEGNet(nb_classes, Chans = 64, Samples = 128, kernels = 8,\n",
        "             dropoutRate = 0.5, kernLength = 64, F1 = 8,\n",
        "             D = 2, F2 = 16, norm_rate = 0.25, dropoutType = 'Dropout'):\n",
        "    if dropoutType == 'SpatialDropout2D':\n",
        "        dropoutType = SpatialDropout2D\n",
        "    elif dropoutType == 'Dropout':\n",
        "        dropoutType = Dropout\n",
        "    else:\n",
        "        raise ValueError('dropoutType must be one of SpatialDropout2D '\n",
        "                         'or Dropout, passed as a string.')\n",
        "\n",
        "    input1   = Input(shape = (Chans, Samples, kernels))\n",
        "\n",
        "    ##################################################################\n",
        "    block1       = Conv2D(F1, (1, kernLength), padding = 'same',\n",
        "                                   input_shape = (Chans, Samples, kernels),\n",
        "                                   use_bias = False)(input1)\n",
        "    block1       = BatchNormalization()(block1)\n",
        "    block1       = DepthwiseConv2D((Chans, 1), use_bias = False,\n",
        "                                   depth_multiplier = D,\n",
        "                                   depthwise_constraint = max_norm(1.))(block1)\n",
        "    block1       = BatchNormalization()(block1)\n",
        "    block1       = Activation(mish)(block1)\n",
        "    block1       = Concatenate(axis=-1)([MaxPooling2D((1, 4))(block1), AveragePooling2D((1, 4))(block1)])\n",
        "    block1       = dropoutType(dropoutRate)(block1)\n",
        "\n",
        "    block2       = SeparableConv2D(F2, (1, 16),\n",
        "                                   use_bias = False, padding = 'same')(block1)\n",
        "    block2       = BatchNormalization()(block2)\n",
        "    block2       = Activation(mish)(block2)\n",
        "    block2       = Concatenate(axis=-1)([MaxPooling2D((1, 8))(block2), AveragePooling2D((1, 8))(block2)])\n",
        "    block2       = dropoutType(dropoutRate)(block2)\n",
        "\n",
        "    flatten      = Flatten(name = 'flatten')(block2)\n",
        "\n",
        "    dense        = Dense(nb_classes, name = 'dense',\n",
        "                         kernel_constraint = max_norm(norm_rate))(flatten)\n",
        "    softmax      = Activation('softmax', name = 'softmax')(dense)\n",
        "\n",
        "    return Model(inputs=input1, outputs=softmax)"
      ],
      "metadata": {
        "id": "JkPYwDCOyyet"
      },
      "execution_count": 14,
      "outputs": []
    },
    {
      "cell_type": "code",
      "source": [
        "model = EEGNet(nb_classes = num_classes, Chans = chans, Samples = samples, kernels = kernels,\n",
        "               dropoutRate = 0.75, kernLength = 32, F1 = 8, D = 2, F2 = 16,\n",
        "               dropoutType = 'Dropout')\n",
        "\n",
        "learning_rate = 0.005  # Set the desired learning rate\n",
        "\n",
        "optimizer = tf.keras.optimizers.Adam(learning_rate=learning_rate)\n",
        "\n",
        "model.compile(loss='categorical_crossentropy', optimizer=optimizer,\n",
        "              metrics = ['accuracy'])\n",
        "\n",
        "numParams = model.count_params()"
      ],
      "metadata": {
        "id": "LQu3AUeux4hC"
      },
      "execution_count": 15,
      "outputs": []
    },
    {
      "cell_type": "code",
      "source": [
        "fittedModel = model.fit(X_train, Y_train, batch_size = 64, epochs = 100,\n",
        "                        verbose = 2, validation_data=(X_test, Y_test),\n",
        "                        callbacks=[], class_weight = {})"
      ],
      "metadata": {
        "colab": {
          "base_uri": "https://localhost:8080/"
        },
        "id": "34XOhRP2x-b4",
        "outputId": "f84353fd-c10a-4779-96c9-04314c2ebfd4"
      },
      "execution_count": 16,
      "outputs": [
        {
          "output_type": "stream",
          "name": "stdout",
          "text": [
            "Epoch 1/100\n",
            "16/16 - 40s - loss: 1.4236 - accuracy: 0.2343 - val_loss: 1.3991 - val_accuracy: 0.2099 - 40s/epoch - 2s/step\n",
            "Epoch 2/100\n",
            "16/16 - 37s - loss: 1.3087 - accuracy: 0.4221 - val_loss: 1.3876 - val_accuracy: 0.2551 - 37s/epoch - 2s/step\n",
            "Epoch 3/100\n",
            "16/16 - 39s - loss: 0.4394 - accuracy: 0.9102 - val_loss: 1.3872 - val_accuracy: 0.2222 - 39s/epoch - 2s/step\n",
            "Epoch 4/100\n",
            "16/16 - 38s - loss: 0.0789 - accuracy: 1.0000 - val_loss: 1.3822 - val_accuracy: 0.2222 - 38s/epoch - 2s/step\n",
            "Epoch 5/100\n",
            "16/16 - 38s - loss: 0.0343 - accuracy: 1.0000 - val_loss: 1.3838 - val_accuracy: 0.2222 - 38s/epoch - 2s/step\n",
            "Epoch 6/100\n",
            "16/16 - 38s - loss: 0.0203 - accuracy: 1.0000 - val_loss: 1.3805 - val_accuracy: 0.2222 - 38s/epoch - 2s/step\n",
            "Epoch 7/100\n",
            "16/16 - 38s - loss: 0.0146 - accuracy: 1.0000 - val_loss: 1.3759 - val_accuracy: 0.3128 - 38s/epoch - 2s/step\n",
            "Epoch 8/100\n",
            "16/16 - 38s - loss: 0.0093 - accuracy: 1.0000 - val_loss: 1.3760 - val_accuracy: 0.3128 - 38s/epoch - 2s/step\n",
            "Epoch 9/100\n",
            "16/16 - 38s - loss: 0.0072 - accuracy: 1.0000 - val_loss: 1.3747 - val_accuracy: 0.3128 - 38s/epoch - 2s/step\n",
            "Epoch 10/100\n",
            "16/16 - 37s - loss: 0.0060 - accuracy: 1.0000 - val_loss: 1.3738 - val_accuracy: 0.3128 - 37s/epoch - 2s/step\n",
            "Epoch 11/100\n",
            "16/16 - 38s - loss: 0.0045 - accuracy: 1.0000 - val_loss: 1.3716 - val_accuracy: 0.3128 - 38s/epoch - 2s/step\n",
            "Epoch 12/100\n",
            "16/16 - 38s - loss: 0.0036 - accuracy: 1.0000 - val_loss: 1.3693 - val_accuracy: 0.3128 - 38s/epoch - 2s/step\n",
            "Epoch 13/100\n",
            "16/16 - 38s - loss: 0.0031 - accuracy: 1.0000 - val_loss: 1.3654 - val_accuracy: 0.3128 - 38s/epoch - 2s/step\n",
            "Epoch 14/100\n",
            "16/16 - 38s - loss: 0.0027 - accuracy: 1.0000 - val_loss: 1.3616 - val_accuracy: 0.3128 - 38s/epoch - 2s/step\n",
            "Epoch 15/100\n",
            "16/16 - 41s - loss: 0.0024 - accuracy: 1.0000 - val_loss: 1.3555 - val_accuracy: 0.3128 - 41s/epoch - 3s/step\n",
            "Epoch 16/100\n",
            "16/16 - 39s - loss: 0.0023 - accuracy: 1.0000 - val_loss: 1.3496 - val_accuracy: 0.3128 - 39s/epoch - 2s/step\n",
            "Epoch 17/100\n",
            "16/16 - 39s - loss: 0.0017 - accuracy: 1.0000 - val_loss: 1.3412 - val_accuracy: 0.4527 - 39s/epoch - 2s/step\n",
            "Epoch 18/100\n",
            "16/16 - 38s - loss: 0.0018 - accuracy: 1.0000 - val_loss: 1.3303 - val_accuracy: 0.4527 - 38s/epoch - 2s/step\n",
            "Epoch 19/100\n",
            "16/16 - 38s - loss: 0.0016 - accuracy: 1.0000 - val_loss: 1.3184 - val_accuracy: 0.5350 - 38s/epoch - 2s/step\n",
            "Epoch 20/100\n",
            "16/16 - 39s - loss: 0.0013 - accuracy: 1.0000 - val_loss: 1.3028 - val_accuracy: 0.5967 - 39s/epoch - 2s/step\n",
            "Epoch 21/100\n",
            "16/16 - 39s - loss: 0.0011 - accuracy: 1.0000 - val_loss: 1.2818 - val_accuracy: 0.5350 - 39s/epoch - 2s/step\n",
            "Epoch 22/100\n",
            "16/16 - 39s - loss: 0.0011 - accuracy: 1.0000 - val_loss: 1.2622 - val_accuracy: 0.6049 - 39s/epoch - 2s/step\n",
            "Epoch 23/100\n",
            "16/16 - 39s - loss: 0.0011 - accuracy: 1.0000 - val_loss: 1.2345 - val_accuracy: 0.6626 - 39s/epoch - 2s/step\n",
            "Epoch 24/100\n",
            "16/16 - 39s - loss: 0.0010 - accuracy: 1.0000 - val_loss: 1.2027 - val_accuracy: 0.8354 - 39s/epoch - 2s/step\n",
            "Epoch 25/100\n",
            "16/16 - 39s - loss: 0.0012 - accuracy: 1.0000 - val_loss: 1.1667 - val_accuracy: 0.8848 - 39s/epoch - 2s/step\n",
            "Epoch 26/100\n",
            "16/16 - 39s - loss: 0.0021 - accuracy: 1.0000 - val_loss: 1.1194 - val_accuracy: 1.0000 - 39s/epoch - 2s/step\n",
            "Epoch 27/100\n",
            "16/16 - 39s - loss: 0.0016 - accuracy: 1.0000 - val_loss: 1.0475 - val_accuracy: 1.0000 - 39s/epoch - 2s/step\n",
            "Epoch 28/100\n",
            "16/16 - 38s - loss: 0.0012 - accuracy: 1.0000 - val_loss: 0.9863 - val_accuracy: 1.0000 - 38s/epoch - 2s/step\n",
            "Epoch 29/100\n",
            "16/16 - 38s - loss: 8.4987e-04 - accuracy: 1.0000 - val_loss: 0.9098 - val_accuracy: 1.0000 - 38s/epoch - 2s/step\n",
            "Epoch 30/100\n",
            "16/16 - 38s - loss: 6.4548e-04 - accuracy: 1.0000 - val_loss: 0.8260 - val_accuracy: 1.0000 - 38s/epoch - 2s/step\n",
            "Epoch 31/100\n",
            "16/16 - 41s - loss: 4.8042e-04 - accuracy: 1.0000 - val_loss: 0.7367 - val_accuracy: 1.0000 - 41s/epoch - 3s/step\n",
            "Epoch 32/100\n",
            "16/16 - 39s - loss: 4.5514e-04 - accuracy: 1.0000 - val_loss: 0.6485 - val_accuracy: 1.0000 - 39s/epoch - 2s/step\n",
            "Epoch 33/100\n",
            "16/16 - 39s - loss: 4.9123e-04 - accuracy: 1.0000 - val_loss: 0.5613 - val_accuracy: 1.0000 - 39s/epoch - 2s/step\n",
            "Epoch 34/100\n",
            "16/16 - 39s - loss: 4.5435e-04 - accuracy: 1.0000 - val_loss: 0.4673 - val_accuracy: 1.0000 - 39s/epoch - 2s/step\n",
            "Epoch 35/100\n",
            "16/16 - 39s - loss: 4.3154e-04 - accuracy: 1.0000 - val_loss: 0.3723 - val_accuracy: 1.0000 - 39s/epoch - 2s/step\n",
            "Epoch 36/100\n",
            "16/16 - 39s - loss: 4.1626e-04 - accuracy: 1.0000 - val_loss: 0.3013 - val_accuracy: 1.0000 - 39s/epoch - 2s/step\n",
            "Epoch 37/100\n",
            "16/16 - 39s - loss: 4.0782e-04 - accuracy: 1.0000 - val_loss: 0.2219 - val_accuracy: 1.0000 - 39s/epoch - 2s/step\n",
            "Epoch 38/100\n",
            "16/16 - 39s - loss: 3.9454e-04 - accuracy: 1.0000 - val_loss: 0.1636 - val_accuracy: 1.0000 - 39s/epoch - 2s/step\n",
            "Epoch 39/100\n",
            "16/16 - 39s - loss: 4.0090e-04 - accuracy: 1.0000 - val_loss: 0.1184 - val_accuracy: 1.0000 - 39s/epoch - 2s/step\n",
            "Epoch 40/100\n",
            "16/16 - 37s - loss: 4.0280e-04 - accuracy: 1.0000 - val_loss: 0.0808 - val_accuracy: 1.0000 - 37s/epoch - 2s/step\n",
            "Epoch 41/100\n",
            "16/16 - 38s - loss: 3.7797e-04 - accuracy: 1.0000 - val_loss: 0.0547 - val_accuracy: 1.0000 - 38s/epoch - 2s/step\n",
            "Epoch 42/100\n",
            "16/16 - 39s - loss: 3.5717e-04 - accuracy: 1.0000 - val_loss: 0.0391 - val_accuracy: 1.0000 - 39s/epoch - 2s/step\n",
            "Epoch 43/100\n",
            "16/16 - 39s - loss: 3.8235e-04 - accuracy: 1.0000 - val_loss: 0.0260 - val_accuracy: 1.0000 - 39s/epoch - 2s/step\n",
            "Epoch 44/100\n",
            "16/16 - 39s - loss: 3.7245e-04 - accuracy: 1.0000 - val_loss: 0.0191 - val_accuracy: 1.0000 - 39s/epoch - 2s/step\n",
            "Epoch 45/100\n",
            "16/16 - 39s - loss: 3.3093e-04 - accuracy: 1.0000 - val_loss: 0.0111 - val_accuracy: 1.0000 - 39s/epoch - 2s/step\n",
            "Epoch 46/100\n",
            "16/16 - 39s - loss: 3.3967e-04 - accuracy: 1.0000 - val_loss: 0.0077 - val_accuracy: 1.0000 - 39s/epoch - 2s/step\n",
            "Epoch 47/100\n",
            "16/16 - 39s - loss: 2.9772e-04 - accuracy: 1.0000 - val_loss: 0.0050 - val_accuracy: 1.0000 - 39s/epoch - 2s/step\n",
            "Epoch 48/100\n",
            "16/16 - 39s - loss: 3.0088e-04 - accuracy: 1.0000 - val_loss: 0.0037 - val_accuracy: 1.0000 - 39s/epoch - 2s/step\n",
            "Epoch 49/100\n",
            "16/16 - 39s - loss: 2.8784e-04 - accuracy: 1.0000 - val_loss: 0.0027 - val_accuracy: 1.0000 - 39s/epoch - 2s/step\n",
            "Epoch 50/100\n",
            "16/16 - 39s - loss: 2.8662e-04 - accuracy: 1.0000 - val_loss: 0.0018 - val_accuracy: 1.0000 - 39s/epoch - 2s/step\n",
            "Epoch 51/100\n",
            "16/16 - 38s - loss: 2.8616e-04 - accuracy: 1.0000 - val_loss: 0.0013 - val_accuracy: 1.0000 - 38s/epoch - 2s/step\n",
            "Epoch 52/100\n",
            "16/16 - 37s - loss: 2.9492e-04 - accuracy: 1.0000 - val_loss: 0.0012 - val_accuracy: 1.0000 - 37s/epoch - 2s/step\n",
            "Epoch 53/100\n",
            "16/16 - 39s - loss: 2.6908e-04 - accuracy: 1.0000 - val_loss: 9.5668e-04 - val_accuracy: 1.0000 - 39s/epoch - 2s/step\n",
            "Epoch 54/100\n",
            "16/16 - 39s - loss: 2.5491e-04 - accuracy: 1.0000 - val_loss: 6.5575e-04 - val_accuracy: 1.0000 - 39s/epoch - 2s/step\n",
            "Epoch 55/100\n",
            "16/16 - 39s - loss: 2.4097e-04 - accuracy: 1.0000 - val_loss: 5.1052e-04 - val_accuracy: 1.0000 - 39s/epoch - 2s/step\n",
            "Epoch 56/100\n",
            "16/16 - 39s - loss: 2.3212e-04 - accuracy: 1.0000 - val_loss: 4.1465e-04 - val_accuracy: 1.0000 - 39s/epoch - 2s/step\n",
            "Epoch 57/100\n",
            "16/16 - 39s - loss: 2.2528e-04 - accuracy: 1.0000 - val_loss: 3.5653e-04 - val_accuracy: 1.0000 - 39s/epoch - 2s/step\n",
            "Epoch 58/100\n",
            "16/16 - 39s - loss: 2.1502e-04 - accuracy: 1.0000 - val_loss: 3.1871e-04 - val_accuracy: 1.0000 - 39s/epoch - 2s/step\n",
            "Epoch 59/100\n",
            "16/16 - 39s - loss: 1.9684e-04 - accuracy: 1.0000 - val_loss: 2.8525e-04 - val_accuracy: 1.0000 - 39s/epoch - 2s/step\n",
            "Epoch 60/100\n",
            "16/16 - 39s - loss: 2.1241e-04 - accuracy: 1.0000 - val_loss: 2.6624e-04 - val_accuracy: 1.0000 - 39s/epoch - 2s/step\n",
            "Epoch 61/100\n",
            "16/16 - 38s - loss: 2.0879e-04 - accuracy: 1.0000 - val_loss: 2.3699e-04 - val_accuracy: 1.0000 - 38s/epoch - 2s/step\n",
            "Epoch 62/100\n",
            "16/16 - 38s - loss: 2.4949e-04 - accuracy: 1.0000 - val_loss: 4.3375e-04 - val_accuracy: 1.0000 - 38s/epoch - 2s/step\n",
            "Epoch 63/100\n",
            "16/16 - 39s - loss: 2.3427e-04 - accuracy: 1.0000 - val_loss: 2.1475e-04 - val_accuracy: 1.0000 - 39s/epoch - 2s/step\n",
            "Epoch 64/100\n",
            "16/16 - 39s - loss: 2.1219e-04 - accuracy: 1.0000 - val_loss: 1.8196e-04 - val_accuracy: 1.0000 - 39s/epoch - 2s/step\n",
            "Epoch 65/100\n",
            "16/16 - 39s - loss: 2.6922e-04 - accuracy: 1.0000 - val_loss: 3.7106e-04 - val_accuracy: 1.0000 - 39s/epoch - 2s/step\n",
            "Epoch 66/100\n",
            "16/16 - 39s - loss: 3.5580e-04 - accuracy: 1.0000 - val_loss: 2.3046e-04 - val_accuracy: 1.0000 - 39s/epoch - 2s/step\n",
            "Epoch 67/100\n",
            "16/16 - 39s - loss: 2.6620e-04 - accuracy: 1.0000 - val_loss: 1.8165e-04 - val_accuracy: 1.0000 - 39s/epoch - 2s/step\n",
            "Epoch 68/100\n",
            "16/16 - 39s - loss: 2.1211e-04 - accuracy: 1.0000 - val_loss: 1.6893e-04 - val_accuracy: 1.0000 - 39s/epoch - 2s/step\n",
            "Epoch 69/100\n",
            "16/16 - 39s - loss: 2.2511e-04 - accuracy: 1.0000 - val_loss: 1.5421e-04 - val_accuracy: 1.0000 - 39s/epoch - 2s/step\n",
            "Epoch 70/100\n",
            "16/16 - 39s - loss: 2.0899e-04 - accuracy: 1.0000 - val_loss: 1.5671e-04 - val_accuracy: 1.0000 - 39s/epoch - 2s/step\n",
            "Epoch 71/100\n",
            "16/16 - 39s - loss: 1.8521e-04 - accuracy: 1.0000 - val_loss: 1.1532e-04 - val_accuracy: 1.0000 - 39s/epoch - 2s/step\n",
            "Epoch 72/100\n",
            "16/16 - 38s - loss: 1.5497e-04 - accuracy: 1.0000 - val_loss: 1.1158e-04 - val_accuracy: 1.0000 - 38s/epoch - 2s/step\n",
            "Epoch 73/100\n",
            "16/16 - 38s - loss: 1.2944e-04 - accuracy: 1.0000 - val_loss: 1.1476e-04 - val_accuracy: 1.0000 - 38s/epoch - 2s/step\n",
            "Epoch 74/100\n",
            "16/16 - 39s - loss: 1.2340e-04 - accuracy: 1.0000 - val_loss: 9.9950e-05 - val_accuracy: 1.0000 - 39s/epoch - 2s/step\n",
            "Epoch 75/100\n",
            "16/16 - 39s - loss: 1.4138e-04 - accuracy: 1.0000 - val_loss: 1.0490e-04 - val_accuracy: 1.0000 - 39s/epoch - 2s/step\n",
            "Epoch 76/100\n",
            "16/16 - 39s - loss: 1.2015e-04 - accuracy: 1.0000 - val_loss: 9.8179e-05 - val_accuracy: 1.0000 - 39s/epoch - 2s/step\n",
            "Epoch 77/100\n",
            "16/16 - 39s - loss: 1.2425e-04 - accuracy: 1.0000 - val_loss: 9.3368e-05 - val_accuracy: 1.0000 - 39s/epoch - 2s/step\n",
            "Epoch 78/100\n",
            "16/16 - 39s - loss: 1.3061e-04 - accuracy: 1.0000 - val_loss: 8.8733e-05 - val_accuracy: 1.0000 - 39s/epoch - 2s/step\n",
            "Epoch 79/100\n",
            "16/16 - 39s - loss: 1.1918e-04 - accuracy: 1.0000 - val_loss: 9.7407e-05 - val_accuracy: 1.0000 - 39s/epoch - 2s/step\n",
            "Epoch 80/100\n",
            "16/16 - 39s - loss: 1.4365e-04 - accuracy: 1.0000 - val_loss: 8.6364e-05 - val_accuracy: 1.0000 - 39s/epoch - 2s/step\n",
            "Epoch 81/100\n",
            "16/16 - 39s - loss: 1.3048e-04 - accuracy: 1.0000 - val_loss: 9.7260e-05 - val_accuracy: 1.0000 - 39s/epoch - 2s/step\n",
            "Epoch 82/100\n",
            "16/16 - 39s - loss: 1.6893e-04 - accuracy: 1.0000 - val_loss: 1.0721e-04 - val_accuracy: 1.0000 - 39s/epoch - 2s/step\n",
            "Epoch 83/100\n",
            "16/16 - 38s - loss: 1.5991e-04 - accuracy: 1.0000 - val_loss: 9.8249e-05 - val_accuracy: 1.0000 - 38s/epoch - 2s/step\n",
            "Epoch 84/100\n",
            "16/16 - 39s - loss: 1.3244e-04 - accuracy: 1.0000 - val_loss: 8.7198e-05 - val_accuracy: 1.0000 - 39s/epoch - 2s/step\n",
            "Epoch 85/100\n",
            "16/16 - 38s - loss: 1.1585e-04 - accuracy: 1.0000 - val_loss: 8.5716e-05 - val_accuracy: 1.0000 - 38s/epoch - 2s/step\n",
            "Epoch 86/100\n",
            "16/16 - 39s - loss: 1.4378e-04 - accuracy: 1.0000 - val_loss: 9.7870e-05 - val_accuracy: 1.0000 - 39s/epoch - 2s/step\n",
            "Epoch 87/100\n",
            "16/16 - 39s - loss: 1.1703e-04 - accuracy: 1.0000 - val_loss: 7.5096e-05 - val_accuracy: 1.0000 - 39s/epoch - 2s/step\n",
            "Epoch 88/100\n",
            "16/16 - 39s - loss: 1.1942e-04 - accuracy: 1.0000 - val_loss: 7.9455e-05 - val_accuracy: 1.0000 - 39s/epoch - 2s/step\n",
            "Epoch 89/100\n",
            "16/16 - 39s - loss: 1.1105e-04 - accuracy: 1.0000 - val_loss: 7.4652e-05 - val_accuracy: 1.0000 - 39s/epoch - 2s/step\n",
            "Epoch 90/100\n",
            "16/16 - 40s - loss: 9.5411e-05 - accuracy: 1.0000 - val_loss: 7.7482e-05 - val_accuracy: 1.0000 - 40s/epoch - 2s/step\n",
            "Epoch 91/100\n",
            "16/16 - 39s - loss: 1.0110e-04 - accuracy: 1.0000 - val_loss: 7.4445e-05 - val_accuracy: 1.0000 - 39s/epoch - 2s/step\n",
            "Epoch 92/100\n",
            "16/16 - 39s - loss: 1.0822e-04 - accuracy: 1.0000 - val_loss: 6.8033e-05 - val_accuracy: 1.0000 - 39s/epoch - 2s/step\n",
            "Epoch 93/100\n",
            "16/16 - 39s - loss: 1.0275e-04 - accuracy: 1.0000 - val_loss: 7.8191e-05 - val_accuracy: 1.0000 - 39s/epoch - 2s/step\n",
            "Epoch 94/100\n",
            "16/16 - 39s - loss: 9.7254e-05 - accuracy: 1.0000 - val_loss: 7.0671e-05 - val_accuracy: 1.0000 - 39s/epoch - 2s/step\n",
            "Epoch 95/100\n",
            "16/16 - 38s - loss: 8.3004e-05 - accuracy: 1.0000 - val_loss: 6.6698e-05 - val_accuracy: 1.0000 - 38s/epoch - 2s/step\n",
            "Epoch 96/100\n",
            "16/16 - 38s - loss: 8.6502e-05 - accuracy: 1.0000 - val_loss: 6.0110e-05 - val_accuracy: 1.0000 - 38s/epoch - 2s/step\n",
            "Epoch 97/100\n",
            "16/16 - 39s - loss: 9.5806e-05 - accuracy: 1.0000 - val_loss: 6.9141e-05 - val_accuracy: 1.0000 - 39s/epoch - 2s/step\n",
            "Epoch 98/100\n",
            "16/16 - 39s - loss: 1.0090e-04 - accuracy: 1.0000 - val_loss: 6.9749e-05 - val_accuracy: 1.0000 - 39s/epoch - 2s/step\n",
            "Epoch 99/100\n",
            "16/16 - 39s - loss: 9.2958e-05 - accuracy: 1.0000 - val_loss: 6.4253e-05 - val_accuracy: 1.0000 - 39s/epoch - 2s/step\n",
            "Epoch 100/100\n",
            "16/16 - 39s - loss: 8.8703e-05 - accuracy: 1.0000 - val_loss: 5.8607e-05 - val_accuracy: 1.0000 - 39s/epoch - 2s/step\n"
          ]
        }
      ]
    }
  ]
}